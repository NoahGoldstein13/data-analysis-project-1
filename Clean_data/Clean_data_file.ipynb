{
 "cells": [
  {
   "cell_type": "code",
   "execution_count": 24,
   "metadata": {},
   "outputs": [
    {
     "output_type": "execute_result",
     "data": {
      "text/plain": [
       "Unnamed: 0                                       index  ... Stability Control\n",
       "0           2019 Acura RDX Specs: FWD w/Technology Pkg  ...               Yes\n",
       "1              2019 Acura RDX Specs: FWD w/Advance Pkg  ...               Yes\n",
       "2               2019 Acura RDX Specs: FWD w/A-Spec Pkg  ...               Yes\n",
       "3                            2019 Acura RDX Specs: FWD  ...               Yes\n",
       "4           2019 Acura RDX Specs: AWD w/Technology Pkg  ...               Yes\n",
       "\n",
       "[5 rows x 8 columns]"
      ],
      "text/html": "<div>\n<style scoped>\n    .dataframe tbody tr th:only-of-type {\n        vertical-align: middle;\n    }\n\n    .dataframe tbody tr th {\n        vertical-align: top;\n    }\n\n    .dataframe thead th {\n        text-align: right;\n    }\n</style>\n<table border=\"1\" class=\"dataframe\">\n  <thead>\n    <tr style=\"text-align: right;\">\n      <th>Unnamed: 0</th>\n      <th>index</th>\n      <th>MSRP</th>\n      <th>Gas Mileage</th>\n      <th>Body Style</th>\n      <th>Base Curb Weight (lbs)</th>\n      <th>Parking Aid</th>\n      <th>Back-Up Camera</th>\n      <th>Stability Control</th>\n    </tr>\n  </thead>\n  <tbody>\n    <tr>\n      <th>0</th>\n      <td>2019 Acura RDX Specs: FWD w/Technology Pkg</td>\n      <td>$40,600</td>\n      <td>22 mpg City/28 mpg Hwy</td>\n      <td>Sport Utility</td>\n      <td>3790</td>\n      <td>Yes</td>\n      <td>Yes</td>\n      <td>Yes</td>\n    </tr>\n    <tr>\n      <th>1</th>\n      <td>2019 Acura RDX Specs: FWD w/Advance Pkg</td>\n      <td>$45,500</td>\n      <td>22 mpg City/28 mpg Hwy</td>\n      <td>Sport Utility</td>\n      <td>3829</td>\n      <td>Yes</td>\n      <td>Yes</td>\n      <td>Yes</td>\n    </tr>\n    <tr>\n      <th>2</th>\n      <td>2019 Acura RDX Specs: FWD w/A-Spec Pkg</td>\n      <td>$43,600</td>\n      <td>22 mpg City/27 mpg Hwy</td>\n      <td>Sport Utility</td>\n      <td>3821</td>\n      <td>Yes</td>\n      <td>Yes</td>\n      <td>Yes</td>\n    </tr>\n    <tr>\n      <th>3</th>\n      <td>2019 Acura RDX Specs: FWD</td>\n      <td>$37,400</td>\n      <td>22 mpg City/28 mpg Hwy</td>\n      <td>Sport Utility</td>\n      <td>3783</td>\n      <td>No</td>\n      <td>Yes</td>\n      <td>Yes</td>\n    </tr>\n    <tr>\n      <th>4</th>\n      <td>2019 Acura RDX Specs: AWD w/Technology Pkg</td>\n      <td>$42,600</td>\n      <td>21 mpg City/27 mpg Hwy</td>\n      <td>Sport Utility</td>\n      <td>4026</td>\n      <td>Yes</td>\n      <td>Yes</td>\n      <td>Yes</td>\n    </tr>\n  </tbody>\n</table>\n</div>"
     },
     "metadata": {},
     "execution_count": 24
    }
   ],
   "source": [
    "# Dependencies and Setup\n",
    "import pandas as pd\n",
    "import numpy as np\n",
    "\n",
    "# Loading raw data\n",
    "path = \"../fullspecs.csv\"\n",
    "Full_specs_raw= pd.read_csv(path) \n",
    "\n",
    "#Reset index to recognize 1st row as index \n",
    "df1 = Full_specs_raw.set_index(\"Unnamed: 0\")\n",
    "\n",
    "#Locate \"rows\" that we want to keep as column headers once transposed\n",
    "rows_to_keep = [\"MSRP\", \"Gas Mileage\", \"Body Style\", \"Base Curb Weight (lbs)\", \"Parking Aid\", \"Back-Up Camera\", \"Stability Control\"]\n",
    "\n",
    "#Filter df to only rows we are analyzing\n",
    "df2= df1.loc[rows_to_keep, :]\n",
    "\n",
    "#Transpose rows to columns \n",
    "transposed_df= df2.transpose()\n",
    "\n",
    "#Resetting index to convert Model names into column \n",
    "transposed_df.reset_index(inplace=True)\n",
    "\n",
    "# list(df3.columns) \n",
    "transposed_df.head()"
   ]
  },
  {
   "cell_type": "code",
   "execution_count": null,
   "metadata": {},
   "outputs": [],
   "source": [
    "# Split year from model name\n",
    "transposed_df[\"Year\"] = int(row[\"l\"]).split()\n",
    "\n",
    "\n",
    "#Split Gas mileage (highway)\n",
    "\n",
    "\n",
    "\n",
    "#Group body styles (Pickup, Sedan, sport, etc)\n",
    "\n",
    "\n",
    "#Remove duplicates and nans?\n",
    "\n",
    "#Rename columns\n",
    "# df = df.rename(columns = {'index':'new column name'})"
   ]
  },
  {
   "cell_type": "code",
   "execution_count": null,
   "metadata": {},
   "outputs": [],
   "source": [
    "#Save to output file "
   ]
  },
  {
   "cell_type": "code",
   "execution_count": null,
   "metadata": {},
   "outputs": [],
   "source": []
  },
  {
   "cell_type": "code",
   "execution_count": null,
   "metadata": {},
   "outputs": [],
   "source": []
  },
  {
   "cell_type": "code",
   "execution_count": null,
   "metadata": {},
   "outputs": [],
   "source": []
  }
 ],
 "metadata": {
  "anaconda-cloud": {},
  "kernel_info": {
   "name": "python3"
  },
  "kernelspec": {
   "display_name": "Python 3",
   "language": "python",
   "name": "python3"
  },
  "language_info": {
   "codemirror_mode": {
    "name": "ipython",
    "version": 3
   },
   "file_extension": ".py",
   "mimetype": "text/x-python",
   "name": "python",
   "nbconvert_exporter": "python",
   "pygments_lexer": "ipython3",
   "version": "3.8.3-final"
  },
  "latex_envs": {
   "LaTeX_envs_menu_present": true,
   "autoclose": false,
   "autocomplete": true,
   "bibliofile": "biblio.bib",
   "cite_by": "apalike",
   "current_citInitial": 1,
   "eqLabelWithNumbers": true,
   "eqNumInitial": 1,
   "hotkeys": {
    "equation": "Ctrl-E",
    "itemize": "Ctrl-I"
   },
   "labels_anchors": false,
   "latex_user_defs": false,
   "report_style_numbering": false,
   "user_envs_cfg": false
  },
  "nteract": {
   "version": "0.8.4"
  }
 },
 "nbformat": 4,
 "nbformat_minor": 1
}