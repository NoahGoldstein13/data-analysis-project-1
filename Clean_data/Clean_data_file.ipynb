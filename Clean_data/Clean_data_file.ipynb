{
 "cells": [
  {
   "cell_type": "code",
   "execution_count": 1,
   "metadata": {},
   "outputs": [
    {
     "output_type": "execute_result",
     "data": {
      "text/plain": [
       "Unnamed: 0                                       index     MSRP  \\\n",
       "0           2019 Acura RDX Specs: FWD w/Technology Pkg  $40,600   \n",
       "1              2019 Acura RDX Specs: FWD w/Advance Pkg  $45,500   \n",
       "2               2019 Acura RDX Specs: FWD w/A-Spec Pkg  $43,600   \n",
       "3                            2019 Acura RDX Specs: FWD  $37,400   \n",
       "4           2019 Acura RDX Specs: AWD w/Technology Pkg  $42,600   \n",
       "\n",
       "Unnamed: 0             Gas Mileage     Body Style Base Curb Weight (lbs)  \\\n",
       "0           22 mpg City/28 mpg Hwy  Sport Utility                   3790   \n",
       "1           22 mpg City/28 mpg Hwy  Sport Utility                   3829   \n",
       "2           22 mpg City/27 mpg Hwy  Sport Utility                   3821   \n",
       "3           22 mpg City/28 mpg Hwy  Sport Utility                   3783   \n",
       "4           21 mpg City/27 mpg Hwy  Sport Utility                   4026   \n",
       "\n",
       "Unnamed: 0 Parking Aid Back-Up Camera Stability Control  \n",
       "0                  Yes            Yes               Yes  \n",
       "1                  Yes            Yes               Yes  \n",
       "2                  Yes            Yes               Yes  \n",
       "3                   No            Yes               Yes  \n",
       "4                  Yes            Yes               Yes  "
      ],
      "text/html": "<div>\n<style scoped>\n    .dataframe tbody tr th:only-of-type {\n        vertical-align: middle;\n    }\n\n    .dataframe tbody tr th {\n        vertical-align: top;\n    }\n\n    .dataframe thead th {\n        text-align: right;\n    }\n</style>\n<table border=\"1\" class=\"dataframe\">\n  <thead>\n    <tr style=\"text-align: right;\">\n      <th>Unnamed: 0</th>\n      <th>index</th>\n      <th>MSRP</th>\n      <th>Gas Mileage</th>\n      <th>Body Style</th>\n      <th>Base Curb Weight (lbs)</th>\n      <th>Parking Aid</th>\n      <th>Back-Up Camera</th>\n      <th>Stability Control</th>\n    </tr>\n  </thead>\n  <tbody>\n    <tr>\n      <th>0</th>\n      <td>2019 Acura RDX Specs: FWD w/Technology Pkg</td>\n      <td>$40,600</td>\n      <td>22 mpg City/28 mpg Hwy</td>\n      <td>Sport Utility</td>\n      <td>3790</td>\n      <td>Yes</td>\n      <td>Yes</td>\n      <td>Yes</td>\n    </tr>\n    <tr>\n      <th>1</th>\n      <td>2019 Acura RDX Specs: FWD w/Advance Pkg</td>\n      <td>$45,500</td>\n      <td>22 mpg City/28 mpg Hwy</td>\n      <td>Sport Utility</td>\n      <td>3829</td>\n      <td>Yes</td>\n      <td>Yes</td>\n      <td>Yes</td>\n    </tr>\n    <tr>\n      <th>2</th>\n      <td>2019 Acura RDX Specs: FWD w/A-Spec Pkg</td>\n      <td>$43,600</td>\n      <td>22 mpg City/27 mpg Hwy</td>\n      <td>Sport Utility</td>\n      <td>3821</td>\n      <td>Yes</td>\n      <td>Yes</td>\n      <td>Yes</td>\n    </tr>\n    <tr>\n      <th>3</th>\n      <td>2019 Acura RDX Specs: FWD</td>\n      <td>$37,400</td>\n      <td>22 mpg City/28 mpg Hwy</td>\n      <td>Sport Utility</td>\n      <td>3783</td>\n      <td>No</td>\n      <td>Yes</td>\n      <td>Yes</td>\n    </tr>\n    <tr>\n      <th>4</th>\n      <td>2019 Acura RDX Specs: AWD w/Technology Pkg</td>\n      <td>$42,600</td>\n      <td>21 mpg City/27 mpg Hwy</td>\n      <td>Sport Utility</td>\n      <td>4026</td>\n      <td>Yes</td>\n      <td>Yes</td>\n      <td>Yes</td>\n    </tr>\n  </tbody>\n</table>\n</div>"
     },
     "metadata": {},
     "execution_count": 1
    }
   ],
   "source": [
    "# Dependencies and Setup\n",
    "import pandas as pd\n",
    "import numpy as np\n",
    "\n",
    "# Loading raw data\n",
    "path = \"../fullspecs.csv\"\n",
    "Full_specs_raw= pd.read_csv(path) \n",
    "\n",
    "#Reset index to recognize 1st row as index \n",
    "df1 = Full_specs_raw.set_index(\"Unnamed: 0\")\n",
    "\n",
    "#Locate \"rows\" that we want to keep as column headers once transposed\n",
    "rows_to_keep = [\"MSRP\", \"Gas Mileage\", \"Body Style\", \"Base Curb Weight (lbs)\", \"Parking Aid\", \"Back-Up Camera\", \"Stability Control\"]\n",
    "\n",
    "#Filter df to only rows we are analyzing\n",
    "df2= df1.loc[rows_to_keep, :]\n",
    "\n",
    "#Transpose rows to columns \n",
    "transposed_df= df2.transpose()\n",
    "\n",
    "#Resetting index to convert Model names into column \n",
    "transposed_df.reset_index(inplace=True)\n",
    "\n",
    "# list(df3.columns) \n",
    "transposed_df.head()"
   ]
  },
  {
   "cell_type": "code",
   "execution_count": 2,
   "metadata": {},
   "outputs": [
    {
     "output_type": "execute_result",
     "data": {
      "text/plain": [
       "Unnamed: 0                                       index     MSRP  \\\n",
       "0           2019 Acura RDX Specs: FWD w/Technology Pkg  $40,600   \n",
       "1              2019 Acura RDX Specs: FWD w/Advance Pkg  $45,500   \n",
       "2               2019 Acura RDX Specs: FWD w/A-Spec Pkg  $43,600   \n",
       "3                            2019 Acura RDX Specs: FWD  $37,400   \n",
       "4           2019 Acura RDX Specs: AWD w/Technology Pkg  $42,600   \n",
       "\n",
       "Unnamed: 0             Gas Mileage     Body Style Base Curb Weight (lbs)  \\\n",
       "0           22 mpg City/28 mpg Hwy  Sport Utility                   3790   \n",
       "1           22 mpg City/28 mpg Hwy  Sport Utility                   3829   \n",
       "2           22 mpg City/27 mpg Hwy  Sport Utility                   3821   \n",
       "3           22 mpg City/28 mpg Hwy  Sport Utility                   3783   \n",
       "4           21 mpg City/27 mpg Hwy  Sport Utility                   4026   \n",
       "\n",
       "Unnamed: 0 Parking Aid Back-Up Camera Stability Control  Year  \n",
       "0                  Yes            Yes               Yes  2019  \n",
       "1                  Yes            Yes               Yes  2019  \n",
       "2                  Yes            Yes               Yes  2019  \n",
       "3                   No            Yes               Yes  2019  \n",
       "4                  Yes            Yes               Yes  2019  "
      ],
      "text/html": "<div>\n<style scoped>\n    .dataframe tbody tr th:only-of-type {\n        vertical-align: middle;\n    }\n\n    .dataframe tbody tr th {\n        vertical-align: top;\n    }\n\n    .dataframe thead th {\n        text-align: right;\n    }\n</style>\n<table border=\"1\" class=\"dataframe\">\n  <thead>\n    <tr style=\"text-align: right;\">\n      <th>Unnamed: 0</th>\n      <th>index</th>\n      <th>MSRP</th>\n      <th>Gas Mileage</th>\n      <th>Body Style</th>\n      <th>Base Curb Weight (lbs)</th>\n      <th>Parking Aid</th>\n      <th>Back-Up Camera</th>\n      <th>Stability Control</th>\n      <th>Year</th>\n    </tr>\n  </thead>\n  <tbody>\n    <tr>\n      <th>0</th>\n      <td>2019 Acura RDX Specs: FWD w/Technology Pkg</td>\n      <td>$40,600</td>\n      <td>22 mpg City/28 mpg Hwy</td>\n      <td>Sport Utility</td>\n      <td>3790</td>\n      <td>Yes</td>\n      <td>Yes</td>\n      <td>Yes</td>\n      <td>2019</td>\n    </tr>\n    <tr>\n      <th>1</th>\n      <td>2019 Acura RDX Specs: FWD w/Advance Pkg</td>\n      <td>$45,500</td>\n      <td>22 mpg City/28 mpg Hwy</td>\n      <td>Sport Utility</td>\n      <td>3829</td>\n      <td>Yes</td>\n      <td>Yes</td>\n      <td>Yes</td>\n      <td>2019</td>\n    </tr>\n    <tr>\n      <th>2</th>\n      <td>2019 Acura RDX Specs: FWD w/A-Spec Pkg</td>\n      <td>$43,600</td>\n      <td>22 mpg City/27 mpg Hwy</td>\n      <td>Sport Utility</td>\n      <td>3821</td>\n      <td>Yes</td>\n      <td>Yes</td>\n      <td>Yes</td>\n      <td>2019</td>\n    </tr>\n    <tr>\n      <th>3</th>\n      <td>2019 Acura RDX Specs: FWD</td>\n      <td>$37,400</td>\n      <td>22 mpg City/28 mpg Hwy</td>\n      <td>Sport Utility</td>\n      <td>3783</td>\n      <td>No</td>\n      <td>Yes</td>\n      <td>Yes</td>\n      <td>2019</td>\n    </tr>\n    <tr>\n      <th>4</th>\n      <td>2019 Acura RDX Specs: AWD w/Technology Pkg</td>\n      <td>$42,600</td>\n      <td>21 mpg City/27 mpg Hwy</td>\n      <td>Sport Utility</td>\n      <td>4026</td>\n      <td>Yes</td>\n      <td>Yes</td>\n      <td>Yes</td>\n      <td>2019</td>\n    </tr>\n  </tbody>\n</table>\n</div>"
     },
     "metadata": {},
     "execution_count": 2
    }
   ],
   "source": [
    "#Split year from model name into new column\n",
    "Year_split_df= transposed_df[\"index\"].str.split(\" \", n = 1, expand = True) \n",
    "  \n",
    "#Making separate Year column from split data frame \n",
    "transposed_df[\"Year\"]= Year_split_df[0] \n",
    "  \n",
    "transposed_df.head()\n"
   ]
  },
  {
   "cell_type": "code",
   "execution_count": 3,
   "metadata": {},
   "outputs": [
    {
     "output_type": "execute_result",
     "data": {
      "text/plain": [
       "Unnamed: 0                                       index     MSRP  \\\n",
       "0           2019 Acura RDX Specs: FWD w/Technology Pkg  $40,600   \n",
       "1              2019 Acura RDX Specs: FWD w/Advance Pkg  $45,500   \n",
       "2               2019 Acura RDX Specs: FWD w/A-Spec Pkg  $43,600   \n",
       "3                            2019 Acura RDX Specs: FWD  $37,400   \n",
       "4           2019 Acura RDX Specs: AWD w/Technology Pkg  $42,600   \n",
       "\n",
       "Unnamed: 0             Gas Mileage     Body Style Base Curb Weight (lbs)  \\\n",
       "0           22 mpg City/28 mpg Hwy  Sport Utility                   3790   \n",
       "1           22 mpg City/28 mpg Hwy  Sport Utility                   3829   \n",
       "2           22 mpg City/27 mpg Hwy  Sport Utility                   3821   \n",
       "3           22 mpg City/28 mpg Hwy  Sport Utility                   3783   \n",
       "4           21 mpg City/27 mpg Hwy  Sport Utility                   4026   \n",
       "\n",
       "Unnamed: 0 Parking Aid Back-Up Camera Stability Control  Year Highway MPG  \n",
       "0                  Yes            Yes               Yes  2019          28  \n",
       "1                  Yes            Yes               Yes  2019          28  \n",
       "2                  Yes            Yes               Yes  2019          27  \n",
       "3                   No            Yes               Yes  2019          28  \n",
       "4                  Yes            Yes               Yes  2019          27  "
      ],
      "text/html": "<div>\n<style scoped>\n    .dataframe tbody tr th:only-of-type {\n        vertical-align: middle;\n    }\n\n    .dataframe tbody tr th {\n        vertical-align: top;\n    }\n\n    .dataframe thead th {\n        text-align: right;\n    }\n</style>\n<table border=\"1\" class=\"dataframe\">\n  <thead>\n    <tr style=\"text-align: right;\">\n      <th>Unnamed: 0</th>\n      <th>index</th>\n      <th>MSRP</th>\n      <th>Gas Mileage</th>\n      <th>Body Style</th>\n      <th>Base Curb Weight (lbs)</th>\n      <th>Parking Aid</th>\n      <th>Back-Up Camera</th>\n      <th>Stability Control</th>\n      <th>Year</th>\n      <th>Highway MPG</th>\n    </tr>\n  </thead>\n  <tbody>\n    <tr>\n      <th>0</th>\n      <td>2019 Acura RDX Specs: FWD w/Technology Pkg</td>\n      <td>$40,600</td>\n      <td>22 mpg City/28 mpg Hwy</td>\n      <td>Sport Utility</td>\n      <td>3790</td>\n      <td>Yes</td>\n      <td>Yes</td>\n      <td>Yes</td>\n      <td>2019</td>\n      <td>28</td>\n    </tr>\n    <tr>\n      <th>1</th>\n      <td>2019 Acura RDX Specs: FWD w/Advance Pkg</td>\n      <td>$45,500</td>\n      <td>22 mpg City/28 mpg Hwy</td>\n      <td>Sport Utility</td>\n      <td>3829</td>\n      <td>Yes</td>\n      <td>Yes</td>\n      <td>Yes</td>\n      <td>2019</td>\n      <td>28</td>\n    </tr>\n    <tr>\n      <th>2</th>\n      <td>2019 Acura RDX Specs: FWD w/A-Spec Pkg</td>\n      <td>$43,600</td>\n      <td>22 mpg City/27 mpg Hwy</td>\n      <td>Sport Utility</td>\n      <td>3821</td>\n      <td>Yes</td>\n      <td>Yes</td>\n      <td>Yes</td>\n      <td>2019</td>\n      <td>27</td>\n    </tr>\n    <tr>\n      <th>3</th>\n      <td>2019 Acura RDX Specs: FWD</td>\n      <td>$37,400</td>\n      <td>22 mpg City/28 mpg Hwy</td>\n      <td>Sport Utility</td>\n      <td>3783</td>\n      <td>No</td>\n      <td>Yes</td>\n      <td>Yes</td>\n      <td>2019</td>\n      <td>28</td>\n    </tr>\n    <tr>\n      <th>4</th>\n      <td>2019 Acura RDX Specs: AWD w/Technology Pkg</td>\n      <td>$42,600</td>\n      <td>21 mpg City/27 mpg Hwy</td>\n      <td>Sport Utility</td>\n      <td>4026</td>\n      <td>Yes</td>\n      <td>Yes</td>\n      <td>Yes</td>\n      <td>2019</td>\n      <td>27</td>\n    </tr>\n  </tbody>\n</table>\n</div>"
     },
     "metadata": {},
     "execution_count": 3
    }
   ],
   "source": [
    "#Split Gas mileage to only Highway MPG\n",
    "MPG_split_df= transposed_df[\"Gas Mileage\"].str.split(\"/\", n = 1, expand = True) \n",
    "\n",
    "#Split Highway MPG to numeric info  \n",
    "Hwy_split_df= MPG_split_df[1].str.split(\" \", n = 1, expand = True) \n",
    "\n",
    "#Making separate Year column from split data frame \n",
    "transposed_df[\"Highway MPG\"]= Hwy_split_df[0] \n",
    "  \n",
    "transposed_df.head()"
   ]
  },
  {
   "cell_type": "code",
   "execution_count": 4,
   "metadata": {},
   "outputs": [
    {
     "output_type": "execute_result",
     "data": {
      "text/plain": [
       "Unnamed: 0                                       index     MSRP  \\\n",
       "0           2019 Acura RDX Specs: FWD w/Technology Pkg  $40,600   \n",
       "1              2019 Acura RDX Specs: FWD w/Advance Pkg  $45,500   \n",
       "2               2019 Acura RDX Specs: FWD w/A-Spec Pkg  $43,600   \n",
       "3                            2019 Acura RDX Specs: FWD  $37,400   \n",
       "4           2019 Acura RDX Specs: AWD w/Technology Pkg  $42,600   \n",
       "\n",
       "Unnamed: 0             Gas Mileage Body Style Base Curb Weight (lbs)  \\\n",
       "0           22 mpg City/28 mpg Hwy        Car                   3790   \n",
       "1           22 mpg City/28 mpg Hwy        Car                   3829   \n",
       "2           22 mpg City/27 mpg Hwy        Car                   3821   \n",
       "3           22 mpg City/28 mpg Hwy        Car                   3783   \n",
       "4           21 mpg City/27 mpg Hwy        Car                   4026   \n",
       "\n",
       "Unnamed: 0 Parking Aid Back-Up Camera Stability Control  Year Highway MPG  \n",
       "0                  Yes            Yes               Yes  2019          28  \n",
       "1                  Yes            Yes               Yes  2019          28  \n",
       "2                  Yes            Yes               Yes  2019          27  \n",
       "3                   No            Yes               Yes  2019          28  \n",
       "4                  Yes            Yes               Yes  2019          27  "
      ],
      "text/html": "<div>\n<style scoped>\n    .dataframe tbody tr th:only-of-type {\n        vertical-align: middle;\n    }\n\n    .dataframe tbody tr th {\n        vertical-align: top;\n    }\n\n    .dataframe thead th {\n        text-align: right;\n    }\n</style>\n<table border=\"1\" class=\"dataframe\">\n  <thead>\n    <tr style=\"text-align: right;\">\n      <th>Unnamed: 0</th>\n      <th>index</th>\n      <th>MSRP</th>\n      <th>Gas Mileage</th>\n      <th>Body Style</th>\n      <th>Base Curb Weight (lbs)</th>\n      <th>Parking Aid</th>\n      <th>Back-Up Camera</th>\n      <th>Stability Control</th>\n      <th>Year</th>\n      <th>Highway MPG</th>\n    </tr>\n  </thead>\n  <tbody>\n    <tr>\n      <th>0</th>\n      <td>2019 Acura RDX Specs: FWD w/Technology Pkg</td>\n      <td>$40,600</td>\n      <td>22 mpg City/28 mpg Hwy</td>\n      <td>Car</td>\n      <td>3790</td>\n      <td>Yes</td>\n      <td>Yes</td>\n      <td>Yes</td>\n      <td>2019</td>\n      <td>28</td>\n    </tr>\n    <tr>\n      <th>1</th>\n      <td>2019 Acura RDX Specs: FWD w/Advance Pkg</td>\n      <td>$45,500</td>\n      <td>22 mpg City/28 mpg Hwy</td>\n      <td>Car</td>\n      <td>3829</td>\n      <td>Yes</td>\n      <td>Yes</td>\n      <td>Yes</td>\n      <td>2019</td>\n      <td>28</td>\n    </tr>\n    <tr>\n      <th>2</th>\n      <td>2019 Acura RDX Specs: FWD w/A-Spec Pkg</td>\n      <td>$43,600</td>\n      <td>22 mpg City/27 mpg Hwy</td>\n      <td>Car</td>\n      <td>3821</td>\n      <td>Yes</td>\n      <td>Yes</td>\n      <td>Yes</td>\n      <td>2019</td>\n      <td>27</td>\n    </tr>\n    <tr>\n      <th>3</th>\n      <td>2019 Acura RDX Specs: FWD</td>\n      <td>$37,400</td>\n      <td>22 mpg City/28 mpg Hwy</td>\n      <td>Car</td>\n      <td>3783</td>\n      <td>No</td>\n      <td>Yes</td>\n      <td>Yes</td>\n      <td>2019</td>\n      <td>28</td>\n    </tr>\n    <tr>\n      <th>4</th>\n      <td>2019 Acura RDX Specs: AWD w/Technology Pkg</td>\n      <td>$42,600</td>\n      <td>21 mpg City/27 mpg Hwy</td>\n      <td>Car</td>\n      <td>4026</td>\n      <td>Yes</td>\n      <td>Yes</td>\n      <td>Yes</td>\n      <td>2019</td>\n      <td>27</td>\n    </tr>\n  </tbody>\n</table>\n</div>"
     },
     "metadata": {},
     "execution_count": 4
    }
   ],
   "source": [
    "#Group body styles (Pickup, Sedan, sport, etc)\n",
    "\n",
    "#Renaming Car body types by cars\n",
    "transposed_df[\"Body Style\"] = transposed_df[\"Body Style\"].replace([\"Sport Utility\", \"4dr Car\", \"2dr Car\", \"Convertible\", \"Station Wagon\", \"3dr Car\", \"Hatchback\"], \"Car\")\n",
    "\n",
    "#Renaming Car body types by trucks\n",
    "transposed_df[\"Body Style\"] = transposed_df[\"Body Style\"].replace([\"Crew Cab Pickup - Short Bed\", \"Crew Cab Pickup - Standard Bed\", \"Extended Cab Pickup - Short Bed\", \"Extended Cab Pickup - Long Bed\", \"Extended Cab Pickup - Standard Bed\", \"Regular Cab Pickup - Long Bed\", \"Crew Cab Pickup - Long Bed\", \"Regular Cab Pickup - Short Bed\", \"Regular Cab Chassis-Cab\", \"Extended Cab Pickup\", \"Crew Cab Pickup\", \"Regular Cab Pickup - Standard Bed\"], \"Truck\")\n",
    "\n",
    "#Renaming Car body types by vans\n",
    "transposed_df[\"Body Style\"] = transposed_df[\"Body Style\"].replace([\"Mini-van, Passenger\", \"Full-size Passenger Van\", \"Full-size Cargo Van\", \"Mini-van, Cargo\"], \"Van\")\n",
    "\n",
    "#Drop Specialty Vehicles \n",
    "Body_style_df = transposed_df[transposed_df[\"Body Style\"] != 'Specialty Vehicle']\n",
    "\n",
    "\n",
    "#Remove duplicates and nans?\n",
    "Body_style_df[\"Body Style\"].value_counts()\n",
    "\n",
    "Body_style_df.head()\n",
    "\n"
   ]
  },
  {
   "cell_type": "code",
   "execution_count": 61,
   "metadata": {},
   "outputs": [
    {
     "output_type": "execute_result",
     "data": {
      "text/plain": [
       "Unnamed: 0                                       index     MSRP  \\\n",
       "0           2019 Acura RDX Specs: FWD w/Technology Pkg  40600.0   \n",
       "1              2019 Acura RDX Specs: FWD w/Advance Pkg  45500.0   \n",
       "2               2019 Acura RDX Specs: FWD w/A-Spec Pkg  43600.0   \n",
       "3                            2019 Acura RDX Specs: FWD  37400.0   \n",
       "4           2019 Acura RDX Specs: AWD w/Technology Pkg  42600.0   \n",
       "\n",
       "Unnamed: 0             Gas Mileage Body Style  Base Curb Weight (lbs)  \\\n",
       "0           22 mpg City/28 mpg Hwy        Car                  3790.0   \n",
       "1           22 mpg City/28 mpg Hwy        Car                  3829.0   \n",
       "2           22 mpg City/27 mpg Hwy        Car                  3821.0   \n",
       "3           22 mpg City/28 mpg Hwy        Car                  3783.0   \n",
       "4           21 mpg City/27 mpg Hwy        Car                  4026.0   \n",
       "\n",
       "Unnamed: 0 Parking Aid Back-Up Camera Stability Control  Year Highway MPG  \n",
       "0                  Yes            Yes               Yes  2019          28  \n",
       "1                  Yes            Yes               Yes  2019          28  \n",
       "2                  Yes            Yes               Yes  2019          27  \n",
       "3                   No            Yes               Yes  2019          28  \n",
       "4                  Yes            Yes               Yes  2019          27  "
      ],
      "text/html": "<div>\n<style scoped>\n    .dataframe tbody tr th:only-of-type {\n        vertical-align: middle;\n    }\n\n    .dataframe tbody tr th {\n        vertical-align: top;\n    }\n\n    .dataframe thead th {\n        text-align: right;\n    }\n</style>\n<table border=\"1\" class=\"dataframe\">\n  <thead>\n    <tr style=\"text-align: right;\">\n      <th>Unnamed: 0</th>\n      <th>index</th>\n      <th>MSRP</th>\n      <th>Gas Mileage</th>\n      <th>Body Style</th>\n      <th>Base Curb Weight (lbs)</th>\n      <th>Parking Aid</th>\n      <th>Back-Up Camera</th>\n      <th>Stability Control</th>\n      <th>Year</th>\n      <th>Highway MPG</th>\n    </tr>\n  </thead>\n  <tbody>\n    <tr>\n      <th>0</th>\n      <td>2019 Acura RDX Specs: FWD w/Technology Pkg</td>\n      <td>40600.0</td>\n      <td>22 mpg City/28 mpg Hwy</td>\n      <td>Car</td>\n      <td>3790.0</td>\n      <td>Yes</td>\n      <td>Yes</td>\n      <td>Yes</td>\n      <td>2019</td>\n      <td>28</td>\n    </tr>\n    <tr>\n      <th>1</th>\n      <td>2019 Acura RDX Specs: FWD w/Advance Pkg</td>\n      <td>45500.0</td>\n      <td>22 mpg City/28 mpg Hwy</td>\n      <td>Car</td>\n      <td>3829.0</td>\n      <td>Yes</td>\n      <td>Yes</td>\n      <td>Yes</td>\n      <td>2019</td>\n      <td>28</td>\n    </tr>\n    <tr>\n      <th>2</th>\n      <td>2019 Acura RDX Specs: FWD w/A-Spec Pkg</td>\n      <td>43600.0</td>\n      <td>22 mpg City/27 mpg Hwy</td>\n      <td>Car</td>\n      <td>3821.0</td>\n      <td>Yes</td>\n      <td>Yes</td>\n      <td>Yes</td>\n      <td>2019</td>\n      <td>27</td>\n    </tr>\n    <tr>\n      <th>3</th>\n      <td>2019 Acura RDX Specs: FWD</td>\n      <td>37400.0</td>\n      <td>22 mpg City/28 mpg Hwy</td>\n      <td>Car</td>\n      <td>3783.0</td>\n      <td>No</td>\n      <td>Yes</td>\n      <td>Yes</td>\n      <td>2019</td>\n      <td>28</td>\n    </tr>\n    <tr>\n      <th>4</th>\n      <td>2019 Acura RDX Specs: AWD w/Technology Pkg</td>\n      <td>42600.0</td>\n      <td>21 mpg City/27 mpg Hwy</td>\n      <td>Car</td>\n      <td>4026.0</td>\n      <td>Yes</td>\n      <td>Yes</td>\n      <td>Yes</td>\n      <td>2019</td>\n      <td>27</td>\n    </tr>\n  </tbody>\n</table>\n</div>"
     },
     "metadata": {},
     "execution_count": 61
    }
   ],
   "source": [
    "#Drop NANs based on Body Style column\n",
    "Body_style_df[\"Body Style\"].replace('', np.nan, inplace=True)\n",
    "Drop_NANs_df = Body_style_df.dropna(subset=[\"Body Style\"]).reset_index(drop=True)\n",
    "\n",
    "\n",
    "Drop_NANs_df.head(5)\n"
   ]
  },
  {
   "cell_type": "code",
   "execution_count": 66,
   "metadata": {},
   "outputs": [
    {
     "output_type": "stream",
     "name": "stdout",
     "text": [
      "<class 'pandas.core.frame.DataFrame'>\nRangeIndex: 30498 entries, 0 to 30497\nData columns (total 10 columns):\n #   Column                  Non-Null Count  Dtype  \n---  ------                  --------------  -----  \n 0   index                   30498 non-null  object \n 1   MSRP                    30444 non-null  float64\n 2   Gas Mileage             26292 non-null  object \n 3   Body Style              30498 non-null  object \n 4   Base Curb Weight (lbs)  19451 non-null  float64\n 5   Parking Aid             30498 non-null  object \n 6   Back-Up Camera          30498 non-null  object \n 7   Stability Control       30498 non-null  object \n 8   Year                    30498 non-null  object \n 9   Highway MPG             26284 non-null  float64\ndtypes: float64(3), object(7)\nmemory usage: 2.3+ MB\n"
     ]
    }
   ],
   "source": [
    "#Change MSRP column to numeric \n",
    "Drop_NANs_df[Drop_NANs_df.columns[1]] = Drop_NANs_df[Drop_NANs_df.columns[1]].replace('[\\$,]', '', regex=True).astype(float)\n",
    "\n",
    "\n",
    "#Change Base Curb Weight to numeric- sifting out any values with string characters\n",
    "Drop_NANs_df[Drop_NANs_df.columns[4]] = Drop_NANs_df[Drop_NANs_df.columns[4]].replace('[,]', '', regex=True)\n",
    "\n",
    "Drop_NANs_df[Drop_NANs_df.columns[4]] = Drop_NANs_df[Drop_NANs_df.columns[4]].replace('[- TBD -]', '', regex=True)\n",
    "\n",
    "Drop_NANs_df[Drop_NANs_df.columns[4]] = Drop_NANs_df[Drop_NANs_df.columns[4]].replace('[2701(est)]', '2701', regex=True).astype(float)\n",
    "\n",
    "\n",
    "#Change Highway MPG to numeric- sifting out any values with string characters\n",
    "Drop_NANs_df[\"Highway MPG\"]= pd.to_numeric(Drop_NANs_df[\"Highway MPG\"])\n",
    "\n",
    "\n",
    "\n",
    "#Check to see if types have changed\n",
    "Drop_NANs_df.info()"
   ]
  },
  {
   "cell_type": "code",
   "execution_count": 78,
   "metadata": {},
   "outputs": [
    {
     "output_type": "execute_result",
     "data": {
      "text/plain": [
       "Unnamed: 0  Year                                 Car Make and Model  \\\n",
       "7515        2005     2005 Ford Ranger Specs: Reg Cab 118\" WB XL 4WD   \n",
       "24819       2006  2006 Subaru Forester Specs: 4-Door 2.5 X Autom...   \n",
       "3928        2014  2014 Chevrolet Silverado 1500 Specs: 2WD Crew ...   \n",
       "12917       2002  2002 GMC Sierra 2500HD Specs: Crew Cab 153\" WB...   \n",
       "16061       2018             2018 INFINITI Q60 Specs: 2.0t LUXE RWD   \n",
       "29985       2019             2019 Volvo XC40 Specs: T4 FWD Momentum   \n",
       "10275       2013  2013 Ford Super Duty F-250 Specs: 2WD SuperCab...   \n",
       "23488       1997  1997 Porsche 911 Specs: 2-Door Carrera Coupe 6...   \n",
       "3559        2013            2013 Cadillac CTS-V Specs: 2-Door Coupe   \n",
       "24060       2019  2019 Ram 2500 Specs: Tradesman 4x2 Reg Cab 8' Box   \n",
       "\n",
       "Unnamed: 0  Retail Price  Highway MPG Body Style  Base Curb Weight (lbs)  \\\n",
       "7515             19425.0         21.0      Truck                     NaN   \n",
       "24819            24945.0         28.0        Car                  3150.0   \n",
       "3928             41120.0         23.0      Truck                     NaN   \n",
       "12917            34222.0          NaN      Truck                     NaN   \n",
       "16061            42300.0         30.0        Car                  3765.0   \n",
       "29985            33700.0         33.0        Car                  3574.0   \n",
       "10275            36605.0          NaN      Truck                     NaN   \n",
       "23488            63750.0         25.0        Car                  3064.0   \n",
       "3559             63215.0         19.0        Car                  4217.0   \n",
       "24060            33395.0          NaN      Truck                     NaN   \n",
       "\n",
       "Unnamed: 0 Parking Aid Back-Up Camera Stability Control  \n",
       "7515                No             No                No  \n",
       "24819               No             No                No  \n",
       "3928                No            Yes               Yes  \n",
       "12917               No             No                No  \n",
       "16061               No            Yes               Yes  \n",
       "29985               No            Yes               Yes  \n",
       "10275               No             No               Yes  \n",
       "23488               No             No                No  \n",
       "3559               Yes            Yes               Yes  \n",
       "24060               No            Yes               Yes  "
      ],
      "text/html": "<div>\n<style scoped>\n    .dataframe tbody tr th:only-of-type {\n        vertical-align: middle;\n    }\n\n    .dataframe tbody tr th {\n        vertical-align: top;\n    }\n\n    .dataframe thead th {\n        text-align: right;\n    }\n</style>\n<table border=\"1\" class=\"dataframe\">\n  <thead>\n    <tr style=\"text-align: right;\">\n      <th>Unnamed: 0</th>\n      <th>Year</th>\n      <th>Car Make and Model</th>\n      <th>Retail Price</th>\n      <th>Highway MPG</th>\n      <th>Body Style</th>\n      <th>Base Curb Weight (lbs)</th>\n      <th>Parking Aid</th>\n      <th>Back-Up Camera</th>\n      <th>Stability Control</th>\n    </tr>\n  </thead>\n  <tbody>\n    <tr>\n      <th>7515</th>\n      <td>2005</td>\n      <td>2005 Ford Ranger Specs: Reg Cab 118\" WB XL 4WD</td>\n      <td>19425.0</td>\n      <td>21.0</td>\n      <td>Truck</td>\n      <td>NaN</td>\n      <td>No</td>\n      <td>No</td>\n      <td>No</td>\n    </tr>\n    <tr>\n      <th>24819</th>\n      <td>2006</td>\n      <td>2006 Subaru Forester Specs: 4-Door 2.5 X Autom...</td>\n      <td>24945.0</td>\n      <td>28.0</td>\n      <td>Car</td>\n      <td>3150.0</td>\n      <td>No</td>\n      <td>No</td>\n      <td>No</td>\n    </tr>\n    <tr>\n      <th>3928</th>\n      <td>2014</td>\n      <td>2014 Chevrolet Silverado 1500 Specs: 2WD Crew ...</td>\n      <td>41120.0</td>\n      <td>23.0</td>\n      <td>Truck</td>\n      <td>NaN</td>\n      <td>No</td>\n      <td>Yes</td>\n      <td>Yes</td>\n    </tr>\n    <tr>\n      <th>12917</th>\n      <td>2002</td>\n      <td>2002 GMC Sierra 2500HD Specs: Crew Cab 153\" WB...</td>\n      <td>34222.0</td>\n      <td>NaN</td>\n      <td>Truck</td>\n      <td>NaN</td>\n      <td>No</td>\n      <td>No</td>\n      <td>No</td>\n    </tr>\n    <tr>\n      <th>16061</th>\n      <td>2018</td>\n      <td>2018 INFINITI Q60 Specs: 2.0t LUXE RWD</td>\n      <td>42300.0</td>\n      <td>30.0</td>\n      <td>Car</td>\n      <td>3765.0</td>\n      <td>No</td>\n      <td>Yes</td>\n      <td>Yes</td>\n    </tr>\n    <tr>\n      <th>29985</th>\n      <td>2019</td>\n      <td>2019 Volvo XC40 Specs: T4 FWD Momentum</td>\n      <td>33700.0</td>\n      <td>33.0</td>\n      <td>Car</td>\n      <td>3574.0</td>\n      <td>No</td>\n      <td>Yes</td>\n      <td>Yes</td>\n    </tr>\n    <tr>\n      <th>10275</th>\n      <td>2013</td>\n      <td>2013 Ford Super Duty F-250 Specs: 2WD SuperCab...</td>\n      <td>36605.0</td>\n      <td>NaN</td>\n      <td>Truck</td>\n      <td>NaN</td>\n      <td>No</td>\n      <td>No</td>\n      <td>Yes</td>\n    </tr>\n    <tr>\n      <th>23488</th>\n      <td>1997</td>\n      <td>1997 Porsche 911 Specs: 2-Door Carrera Coupe 6...</td>\n      <td>63750.0</td>\n      <td>25.0</td>\n      <td>Car</td>\n      <td>3064.0</td>\n      <td>No</td>\n      <td>No</td>\n      <td>No</td>\n    </tr>\n    <tr>\n      <th>3559</th>\n      <td>2013</td>\n      <td>2013 Cadillac CTS-V Specs: 2-Door Coupe</td>\n      <td>63215.0</td>\n      <td>19.0</td>\n      <td>Car</td>\n      <td>4217.0</td>\n      <td>Yes</td>\n      <td>Yes</td>\n      <td>Yes</td>\n    </tr>\n    <tr>\n      <th>24060</th>\n      <td>2019</td>\n      <td>2019 Ram 2500 Specs: Tradesman 4x2 Reg Cab 8' Box</td>\n      <td>33395.0</td>\n      <td>NaN</td>\n      <td>Truck</td>\n      <td>NaN</td>\n      <td>No</td>\n      <td>Yes</td>\n      <td>Yes</td>\n    </tr>\n  </tbody>\n</table>\n</div>"
     },
     "metadata": {},
     "execution_count": 78
    }
   ],
   "source": [
    "#Rename columns to be more understandable\n",
    "Renamed_df= Drop_NANs_df.rename(columns = {'index':'Car Make and Model', 'MSRP':'Retail Price'})\n",
    "\n",
    "\n",
    "#Tracking columns we want to keep in organized dataframe\n",
    "Columns_to_keep= [\"Year\", \"Car Make and Model\", \"Retail Price\", \"Highway MPG\", \"Body Style\", \"Base Curb Weight (lbs)\", \"Parking Aid\", \"Back-Up Camera\", \"Stability Control\"]\n",
    "\n",
    "Organized_df= Renamed_df[Columns_to_keep]\n",
    "\n",
    "\n",
    "#Change name of index\n",
    "# Organized_df.index.names = ['Index']\n",
    "Organized_df.rename(index={\"Unnamed: 0\": 'Index'})\n",
    "\n",
    "Organized_df.sample(10)\n",
    "\n",
    "#Save to output file \n",
    "# df = pd.read_csv(file_csv, na_values=' ')"
   ]
  },
  {
   "cell_type": "code",
   "execution_count": null,
   "metadata": {},
   "outputs": [],
   "source": []
  },
  {
   "cell_type": "code",
   "execution_count": null,
   "metadata": {},
   "outputs": [],
   "source": []
  }
 ],
 "metadata": {
  "anaconda-cloud": {},
  "kernel_info": {
   "name": "python3"
  },
  "kernelspec": {
   "display_name": "Python 3",
   "language": "python",
   "name": "python3"
  },
  "language_info": {
   "codemirror_mode": {
    "name": "ipython",
    "version": 3
   },
   "file_extension": ".py",
   "mimetype": "text/x-python",
   "name": "python",
   "nbconvert_exporter": "python",
   "pygments_lexer": "ipython3",
   "version": "3.8.3-final"
  },
  "latex_envs": {
   "LaTeX_envs_menu_present": true,
   "autoclose": false,
   "autocomplete": true,
   "bibliofile": "biblio.bib",
   "cite_by": "apalike",
   "current_citInitial": 1,
   "eqLabelWithNumbers": true,
   "eqNumInitial": 1,
   "hotkeys": {
    "equation": "Ctrl-E",
    "itemize": "Ctrl-I"
   },
   "labels_anchors": false,
   "latex_user_defs": false,
   "report_style_numbering": false,
   "user_envs_cfg": false
  },
  "nteract": {
   "version": "0.8.4"
  }
 },
 "nbformat": 4,
 "nbformat_minor": 1
}