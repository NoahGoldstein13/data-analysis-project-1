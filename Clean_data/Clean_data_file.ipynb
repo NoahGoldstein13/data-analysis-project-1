{
 "cells": [
  {
   "cell_type": "code",
   "execution_count": null,
   "metadata": {},
   "outputs": [],
   "source": [
    "# Dependencies and Setup\n",
    "import pandas as pd\n",
    "import numpy as np\n",
    "\n",
    "# Loading raw data\n",
    "path = \"../fullspecs.csv\"\n",
    "Full_specs_raw= pd.read_csv(path) \n",
    "\n",
    "#Reset index to recognize 1st row as index \n",
    "df1 = Full_specs_raw.set_index(\"Unnamed: 0\")\n",
    "\n",
    "#Locate \"rows\" that we want to keep as column headers once transposed\n",
    "rows_to_keep = [\"MSRP\", \"Gas Mileage\", \"Body Style\", \"Base Curb Weight (lbs)\", \"Parking Aid\", \"Back-Up Camera\", \"Stability Control\"]\n",
    "\n",
    "#Filter df to only rows we are analyzing\n",
    "df2= df1.loc[rows_to_keep, :]\n",
    "\n",
    "#Transpose rows to columns \n",
    "transposed_df= df2.transpose()\n",
    "\n",
    "#Resetting index to convert Model names into column \n",
    "transposed_df.reset_index(inplace=True)\n",
    "\n",
    "# list(df3.columns) \n",
    "transposed_df.head()"
   ]
  },
  {
   "cell_type": "code",
   "execution_count": null,
   "metadata": {},
   "outputs": [],
   "source": [
    "#Split year from model name into new column\n",
    "Year_split_df= transposed_df[\"index\"].str.split(\" \", n = 1, expand = True) \n",
    "  \n",
    "#Making separate Year column from split data frame \n",
    "transposed_df[\"Year\"]= Year_split_df[0] \n",
    "  \n",
    "transposed_df.head()\n"
   ]
  },
  {
   "cell_type": "code",
   "execution_count": null,
   "metadata": {},
   "outputs": [],
   "source": [
    "#Split Gas mileage to only Highway MPG\n",
    "MPG_split_df= transposed_df[\"Gas Mileage\"].str.split(\"/\", n = 1, expand = True) \n",
    "\n",
    "#Split Highway MPG to numeric info  \n",
    "Hwy_split_df= MPG_split_df[1].str.split(\" \", n = 1, expand = True) \n",
    "\n",
    "#Making separate Year column from split data frame \n",
    "transposed_df[\"Highway MPG\"]= Hwy_split_df[0] \n",
    "  \n",
    "transposed_df.head()"
   ]
  },
  {
   "cell_type": "code",
   "execution_count": 51,
   "metadata": {},
   "outputs": [
    {
     "output_type": "execute_result",
     "data": {
      "text/plain": [
       "Unnamed: 0                                       index  ... Highway MPG\n",
       "0           2019 Acura RDX Specs: FWD w/Technology Pkg  ...          28\n",
       "1              2019 Acura RDX Specs: FWD w/Advance Pkg  ...          28\n",
       "2               2019 Acura RDX Specs: FWD w/A-Spec Pkg  ...          27\n",
       "3                            2019 Acura RDX Specs: FWD  ...          28\n",
       "4           2019 Acura RDX Specs: AWD w/Technology Pkg  ...          27\n",
       "\n",
       "[5 rows x 10 columns]"
      ],
      "text/html": "<div>\n<style scoped>\n    .dataframe tbody tr th:only-of-type {\n        vertical-align: middle;\n    }\n\n    .dataframe tbody tr th {\n        vertical-align: top;\n    }\n\n    .dataframe thead th {\n        text-align: right;\n    }\n</style>\n<table border=\"1\" class=\"dataframe\">\n  <thead>\n    <tr style=\"text-align: right;\">\n      <th>Unnamed: 0</th>\n      <th>index</th>\n      <th>MSRP</th>\n      <th>Gas Mileage</th>\n      <th>Body Style</th>\n      <th>Base Curb Weight (lbs)</th>\n      <th>Parking Aid</th>\n      <th>Back-Up Camera</th>\n      <th>Stability Control</th>\n      <th>Year</th>\n      <th>Highway MPG</th>\n    </tr>\n  </thead>\n  <tbody>\n    <tr>\n      <th>0</th>\n      <td>2019 Acura RDX Specs: FWD w/Technology Pkg</td>\n      <td>$40,600</td>\n      <td>22 mpg City/28 mpg Hwy</td>\n      <td>Car</td>\n      <td>3790</td>\n      <td>Yes</td>\n      <td>Yes</td>\n      <td>Yes</td>\n      <td>2019</td>\n      <td>28</td>\n    </tr>\n    <tr>\n      <th>1</th>\n      <td>2019 Acura RDX Specs: FWD w/Advance Pkg</td>\n      <td>$45,500</td>\n      <td>22 mpg City/28 mpg Hwy</td>\n      <td>Car</td>\n      <td>3829</td>\n      <td>Yes</td>\n      <td>Yes</td>\n      <td>Yes</td>\n      <td>2019</td>\n      <td>28</td>\n    </tr>\n    <tr>\n      <th>2</th>\n      <td>2019 Acura RDX Specs: FWD w/A-Spec Pkg</td>\n      <td>$43,600</td>\n      <td>22 mpg City/27 mpg Hwy</td>\n      <td>Car</td>\n      <td>3821</td>\n      <td>Yes</td>\n      <td>Yes</td>\n      <td>Yes</td>\n      <td>2019</td>\n      <td>27</td>\n    </tr>\n    <tr>\n      <th>3</th>\n      <td>2019 Acura RDX Specs: FWD</td>\n      <td>$37,400</td>\n      <td>22 mpg City/28 mpg Hwy</td>\n      <td>Car</td>\n      <td>3783</td>\n      <td>No</td>\n      <td>Yes</td>\n      <td>Yes</td>\n      <td>2019</td>\n      <td>28</td>\n    </tr>\n    <tr>\n      <th>4</th>\n      <td>2019 Acura RDX Specs: AWD w/Technology Pkg</td>\n      <td>$42,600</td>\n      <td>21 mpg City/27 mpg Hwy</td>\n      <td>Car</td>\n      <td>4026</td>\n      <td>Yes</td>\n      <td>Yes</td>\n      <td>Yes</td>\n      <td>2019</td>\n      <td>27</td>\n    </tr>\n  </tbody>\n</table>\n</div>"
     },
     "metadata": {},
     "execution_count": 51
    }
   ],
   "source": [
    "#Group body styles (Pickup, Sedan, sport, etc)\n",
    "\n",
    "#Renaming Car body types by cars\n",
    "transposed_df[\"Body Style\"] = transposed_df[\"Body Style\"].replace([\"Sport Utility\", \"4dr Car\", \"2dr Car\", \"Convertible\", \"Station Wagon\", \"3dr Car\", \"Hatchback\"], \"Car\")\n",
    "\n",
    "#Renaming Car body types by trucks\n",
    "transposed_df[\"Body Style\"] = transposed_df[\"Body Style\"].replace([\"Crew Cab Pickup - Short Bed\", \"Crew Cab Pickup - Standard Bed\", \"Extended Cab Pickup - Short Bed\", \"Extended Cab Pickup - Long Bed\", \"Extended Cab Pickup - Standard Bed\", \"Regular Cab Pickup - Long Bed\", \"Crew Cab Pickup - Long Bed\", \"Regular Cab Pickup - Short Bed\", \"Regular Cab Chassis-Cab\", \"Extended Cab Pickup\", \"Crew Cab Pickup\", \"Regular Cab Pickup - Standard Bed\"], \"Truck\")\n",
    "\n",
    "#Renaming Car body types by vans\n",
    "transposed_df[\"Body Style\"] = transposed_df[\"Body Style\"].replace([\"Mini-van, Passenger\", \"Full-size Passenger Van\", \"Full-size Cargo Van\", \"Mini-van, Cargo\"], \"Van\")\n",
    "\n",
    "#Drop Specialty Vehicles \n",
    "Body_style_df = transposed_df[transposed_df[\"Body Style\"] != 'Specialty Vehicle']\n",
    "\n",
    "\n",
    "#Remove duplicates and nans?\n",
    "Body_style_df[\"Body Style\"].value_counts()\n",
    "\n",
    "Body_style_df.head()\n",
    "\n"
   ]
  },
  {
   "cell_type": "code",
   "execution_count": 70,
   "metadata": {},
   "outputs": [
    {
     "output_type": "error",
     "ename": "ValueError",
     "evalue": "Integer out of range. at position 16050",
     "traceback": [
      "\u001b[1;31m---------------------------------------------------------------------------\u001b[0m",
      "\u001b[1;31mValueError\u001b[0m                                Traceback (most recent call last)",
      "\u001b[1;32mpandas\\_libs\\lib.pyx\u001b[0m in \u001b[0;36mpandas._libs.lib.maybe_convert_numeric\u001b[1;34m()\u001b[0m\n",
      "\u001b[1;31mValueError\u001b[0m: Integer out of range.",
      "\nDuring handling of the above exception, another exception occurred:\n",
      "\u001b[1;31mValueError\u001b[0m                                Traceback (most recent call last)",
      "\u001b[1;32m<ipython-input-70-65a9e3b136ca>\u001b[0m in \u001b[0;36m<module>\u001b[1;34m\u001b[0m\n\u001b[0;32m     10\u001b[0m \u001b[1;33m\u001b[0m\u001b[0m\n\u001b[0;32m     11\u001b[0m \u001b[1;33m\u001b[0m\u001b[0m\n\u001b[1;32m---> 12\u001b[1;33m \u001b[0mBody_style_df\u001b[0m\u001b[1;33m[\u001b[0m\u001b[1;34m\"Base Curb Weight (lbs)\"\u001b[0m\u001b[1;33m]\u001b[0m\u001b[1;33m=\u001b[0m \u001b[0mpd\u001b[0m\u001b[1;33m.\u001b[0m\u001b[0mto_numeric\u001b[0m\u001b[1;33m(\u001b[0m\u001b[0mBody_style_df\u001b[0m\u001b[1;33m[\u001b[0m\u001b[1;34m\"Base Curb Weight (lbs)\"\u001b[0m\u001b[1;33m]\u001b[0m\u001b[1;33m)\u001b[0m\u001b[1;33m\u001b[0m\u001b[1;33m\u001b[0m\u001b[0m\n\u001b[0m\u001b[0;32m     13\u001b[0m \u001b[1;33m\u001b[0m\u001b[0m\n\u001b[0;32m     14\u001b[0m \u001b[1;31m#Change Highway MPG to numeric\u001b[0m\u001b[1;33m\u001b[0m\u001b[1;33m\u001b[0m\u001b[1;33m\u001b[0m\u001b[0m\n",
      "\u001b[1;32m~\\anaconda3\\lib\\site-packages\\pandas\\core\\tools\\numeric.py\u001b[0m in \u001b[0;36mto_numeric\u001b[1;34m(arg, errors, downcast)\u001b[0m\n\u001b[0;32m    147\u001b[0m         \u001b[0mcoerce_numeric\u001b[0m \u001b[1;33m=\u001b[0m \u001b[0merrors\u001b[0m \u001b[1;32mnot\u001b[0m \u001b[1;32min\u001b[0m \u001b[1;33m(\u001b[0m\u001b[1;34m\"ignore\"\u001b[0m\u001b[1;33m,\u001b[0m \u001b[1;34m\"raise\"\u001b[0m\u001b[1;33m)\u001b[0m\u001b[1;33m\u001b[0m\u001b[1;33m\u001b[0m\u001b[0m\n\u001b[0;32m    148\u001b[0m         \u001b[1;32mtry\u001b[0m\u001b[1;33m:\u001b[0m\u001b[1;33m\u001b[0m\u001b[1;33m\u001b[0m\u001b[0m\n\u001b[1;32m--> 149\u001b[1;33m             values = lib.maybe_convert_numeric(\n\u001b[0m\u001b[0;32m    150\u001b[0m                 \u001b[0mvalues\u001b[0m\u001b[1;33m,\u001b[0m \u001b[0mset\u001b[0m\u001b[1;33m(\u001b[0m\u001b[1;33m)\u001b[0m\u001b[1;33m,\u001b[0m \u001b[0mcoerce_numeric\u001b[0m\u001b[1;33m=\u001b[0m\u001b[0mcoerce_numeric\u001b[0m\u001b[1;33m\u001b[0m\u001b[1;33m\u001b[0m\u001b[0m\n\u001b[0;32m    151\u001b[0m             )\n",
      "\u001b[1;32mpandas\\_libs\\lib.pyx\u001b[0m in \u001b[0;36mpandas._libs.lib.maybe_convert_numeric\u001b[1;34m()\u001b[0m\n",
      "\u001b[1;31mValueError\u001b[0m: Integer out of range. at position 16050"
     ]
    }
   ],
   "source": [
    "#Change MSRP column to numeric \n",
    "Body_style_df[Body_style_df.columns[1]] = Body_style_df[Body_style_df.columns[1]].replace('[\\$,]', '', regex=True).astype(float)\n",
    "\n",
    "#Change Base Curb Weight to numeric \n",
    "Body_style_df[Body_style_df.columns[4]] = Body_style_df[Body_style_df.columns[4]].replace('[,]', '', regex=True)\n",
    "\n",
    "Body_style_df[Body_style_df.columns[4]] = Body_style_df[Body_style_df.columns[4]].replace('[- TBD -]', '', regex=True)\n",
    "\n",
    "Body_style_df[Body_style_df.columns[4]] = Body_style_df[Body_style_df.columns[4]].replace('[2701(est)]', '2701', regex=True)\n",
    "\n",
    "Body_style_df[\"Base Curb Weight (lbs)\"]= pd.to_numeric(Body_style_df[\"Base Curb Weight (lbs)\"])\n",
    "\n",
    "#Change Highway MPG to numeric \n",
    "\n",
    "\n",
    "#Check to see if types have changed\n",
    "# Body_style_df.info()"
   ]
  },
  {
   "cell_type": "code",
   "execution_count": null,
   "metadata": {},
   "outputs": [],
   "source": [
    "# Columns_to_keep= [\"Year\", \"Model Name\", \"MSRP\", \"Highway MPG\", \"Body Style\", \"Base Curb Weight (lbs)\", \"Parking Aid\", \"Back-Up Camera\", \"Stability Control\"]\n",
    "\n",
    "\n",
    "#Rename columns\n",
    "#df = df.rename(columns = {'index':'Car Models'})\n",
    "# \n",
    "# \n",
    "#Save to output file "
   ]
  },
  {
   "cell_type": "code",
   "execution_count": null,
   "metadata": {},
   "outputs": [],
   "source": []
  },
  {
   "cell_type": "code",
   "execution_count": null,
   "metadata": {},
   "outputs": [],
   "source": []
  }
 ],
 "metadata": {
  "anaconda-cloud": {},
  "kernel_info": {
   "name": "python3"
  },
  "kernelspec": {
   "display_name": "Python 3",
   "language": "python",
   "name": "python3"
  },
  "language_info": {
   "codemirror_mode": {
    "name": "ipython",
    "version": 3
   },
   "file_extension": ".py",
   "mimetype": "text/x-python",
   "name": "python",
   "nbconvert_exporter": "python",
   "pygments_lexer": "ipython3",
   "version": "3.8.3-final"
  },
  "latex_envs": {
   "LaTeX_envs_menu_present": true,
   "autoclose": false,
   "autocomplete": true,
   "bibliofile": "biblio.bib",
   "cite_by": "apalike",
   "current_citInitial": 1,
   "eqLabelWithNumbers": true,
   "eqNumInitial": 1,
   "hotkeys": {
    "equation": "Ctrl-E",
    "itemize": "Ctrl-I"
   },
   "labels_anchors": false,
   "latex_user_defs": false,
   "report_style_numbering": false,
   "user_envs_cfg": false
  },
  "nteract": {
   "version": "0.8.4"
  }
 },
 "nbformat": 4,
 "nbformat_minor": 1
}