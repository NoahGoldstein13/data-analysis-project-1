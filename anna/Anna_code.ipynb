{
 "metadata": {
  "language_info": {
   "codemirror_mode": {
    "name": "ipython",
    "version": 3
   },
   "file_extension": ".py",
   "mimetype": "text/x-python",
   "name": "python",
   "nbconvert_exporter": "python",
   "pygments_lexer": "ipython3",
   "version": "3.8.3-final"
  },
  "orig_nbformat": 2,
  "kernelspec": {
   "name": "python3",
   "display_name": "Python 3",
   "language": "python"
  }
 },
 "nbformat": 4,
 "nbformat_minor": 2,
 "cells": [
  {
   "cell_type": "code",
   "execution_count": 1,
   "metadata": {},
   "outputs": [],
   "source": [
    "# Dependencies and Setup\n",
    "import matplotlib.pyplot as plt\n",
    "import pandas as pd\n",
    "import numpy as np\n",
    "import requests\n"
   ]
  },
  {
   "cell_type": "code",
   "execution_count": 3,
   "metadata": {},
   "outputs": [
    {
     "output_type": "execute_result",
     "data": {
      "text/plain": [
       "       Year                                 Car Make and Model  Retail Price  \\\n",
       "0      2019         2019 Acura RDX Specs: FWD w/Technology Pkg       40600.0   \n",
       "1      2019            2019 Acura RDX Specs: FWD w/Advance Pkg       45500.0   \n",
       "2      2019             2019 Acura RDX Specs: FWD w/A-Spec Pkg       43600.0   \n",
       "3      2019                          2019 Acura RDX Specs: FWD       37400.0   \n",
       "4      2019         2019 Acura RDX Specs: AWD w/Technology Pkg       42600.0   \n",
       "...     ...                                                ...           ...   \n",
       "30493  2018  2018 Volvo V60 Cross Country Specs: T5 AWD Pla...       45700.0   \n",
       "30494  2016  2016 Volvo V60 Cross Country Specs: 4-Door Wag...       41200.0   \n",
       "30495  2016  2016 Volvo V60 Cross Country Specs: 4-Door Wag...       44850.0   \n",
       "30496  2015  2015 Volvo V60 Cross Country Specs: 2015.5 4-D...       41000.0   \n",
       "30497  2015  2015 Volvo V60 Cross Country Specs: 2015.5 4-D...       44650.0   \n",
       "\n",
       "       Highway MPG Body Style  Base Curb Weight (lbs) Parking Aid  \\\n",
       "0             28.0        Car                  3790.0         Yes   \n",
       "1             28.0        Car                  3829.0         Yes   \n",
       "2             27.0        Car                  3821.0         Yes   \n",
       "3             28.0        Car                  3783.0          No   \n",
       "4             27.0        Car                  4026.0         Yes   \n",
       "...            ...        ...                     ...         ...   \n",
       "30493          NaN        Car                  3920.0         Yes   \n",
       "30494         28.0        Car                  3602.0         Yes   \n",
       "30495         28.0        Car                  3602.0         Yes   \n",
       "30496         28.0        Car                  3602.0         Yes   \n",
       "30497         28.0        Car                  3602.0         Yes   \n",
       "\n",
       "      Back-Up Camera Stability Control  \n",
       "0                Yes               Yes  \n",
       "1                Yes               Yes  \n",
       "2                Yes               Yes  \n",
       "3                Yes               Yes  \n",
       "4                Yes               Yes  \n",
       "...              ...               ...  \n",
       "30493            Yes               Yes  \n",
       "30494             No               Yes  \n",
       "30495            Yes               Yes  \n",
       "30496             No               Yes  \n",
       "30497            Yes               Yes  \n",
       "\n",
       "[30498 rows x 9 columns]"
      ],
      "text/html": "<div>\n<style scoped>\n    .dataframe tbody tr th:only-of-type {\n        vertical-align: middle;\n    }\n\n    .dataframe tbody tr th {\n        vertical-align: top;\n    }\n\n    .dataframe thead th {\n        text-align: right;\n    }\n</style>\n<table border=\"1\" class=\"dataframe\">\n  <thead>\n    <tr style=\"text-align: right;\">\n      <th></th>\n      <th>Year</th>\n      <th>Car Make and Model</th>\n      <th>Retail Price</th>\n      <th>Highway MPG</th>\n      <th>Body Style</th>\n      <th>Base Curb Weight (lbs)</th>\n      <th>Parking Aid</th>\n      <th>Back-Up Camera</th>\n      <th>Stability Control</th>\n    </tr>\n  </thead>\n  <tbody>\n    <tr>\n      <th>0</th>\n      <td>2019</td>\n      <td>2019 Acura RDX Specs: FWD w/Technology Pkg</td>\n      <td>40600.0</td>\n      <td>28.0</td>\n      <td>Car</td>\n      <td>3790.0</td>\n      <td>Yes</td>\n      <td>Yes</td>\n      <td>Yes</td>\n    </tr>\n    <tr>\n      <th>1</th>\n      <td>2019</td>\n      <td>2019 Acura RDX Specs: FWD w/Advance Pkg</td>\n      <td>45500.0</td>\n      <td>28.0</td>\n      <td>Car</td>\n      <td>3829.0</td>\n      <td>Yes</td>\n      <td>Yes</td>\n      <td>Yes</td>\n    </tr>\n    <tr>\n      <th>2</th>\n      <td>2019</td>\n      <td>2019 Acura RDX Specs: FWD w/A-Spec Pkg</td>\n      <td>43600.0</td>\n      <td>27.0</td>\n      <td>Car</td>\n      <td>3821.0</td>\n      <td>Yes</td>\n      <td>Yes</td>\n      <td>Yes</td>\n    </tr>\n    <tr>\n      <th>3</th>\n      <td>2019</td>\n      <td>2019 Acura RDX Specs: FWD</td>\n      <td>37400.0</td>\n      <td>28.0</td>\n      <td>Car</td>\n      <td>3783.0</td>\n      <td>No</td>\n      <td>Yes</td>\n      <td>Yes</td>\n    </tr>\n    <tr>\n      <th>4</th>\n      <td>2019</td>\n      <td>2019 Acura RDX Specs: AWD w/Technology Pkg</td>\n      <td>42600.0</td>\n      <td>27.0</td>\n      <td>Car</td>\n      <td>4026.0</td>\n      <td>Yes</td>\n      <td>Yes</td>\n      <td>Yes</td>\n    </tr>\n    <tr>\n      <th>...</th>\n      <td>...</td>\n      <td>...</td>\n      <td>...</td>\n      <td>...</td>\n      <td>...</td>\n      <td>...</td>\n      <td>...</td>\n      <td>...</td>\n      <td>...</td>\n    </tr>\n    <tr>\n      <th>30493</th>\n      <td>2018</td>\n      <td>2018 Volvo V60 Cross Country Specs: T5 AWD Pla...</td>\n      <td>45700.0</td>\n      <td>NaN</td>\n      <td>Car</td>\n      <td>3920.0</td>\n      <td>Yes</td>\n      <td>Yes</td>\n      <td>Yes</td>\n    </tr>\n    <tr>\n      <th>30494</th>\n      <td>2016</td>\n      <td>2016 Volvo V60 Cross Country Specs: 4-Door Wag...</td>\n      <td>41200.0</td>\n      <td>28.0</td>\n      <td>Car</td>\n      <td>3602.0</td>\n      <td>Yes</td>\n      <td>No</td>\n      <td>Yes</td>\n    </tr>\n    <tr>\n      <th>30495</th>\n      <td>2016</td>\n      <td>2016 Volvo V60 Cross Country Specs: 4-Door Wag...</td>\n      <td>44850.0</td>\n      <td>28.0</td>\n      <td>Car</td>\n      <td>3602.0</td>\n      <td>Yes</td>\n      <td>Yes</td>\n      <td>Yes</td>\n    </tr>\n    <tr>\n      <th>30496</th>\n      <td>2015</td>\n      <td>2015 Volvo V60 Cross Country Specs: 2015.5 4-D...</td>\n      <td>41000.0</td>\n      <td>28.0</td>\n      <td>Car</td>\n      <td>3602.0</td>\n      <td>Yes</td>\n      <td>No</td>\n      <td>Yes</td>\n    </tr>\n    <tr>\n      <th>30497</th>\n      <td>2015</td>\n      <td>2015 Volvo V60 Cross Country Specs: 2015.5 4-D...</td>\n      <td>44650.0</td>\n      <td>28.0</td>\n      <td>Car</td>\n      <td>3602.0</td>\n      <td>Yes</td>\n      <td>Yes</td>\n      <td>Yes</td>\n    </tr>\n  </tbody>\n</table>\n<p>30498 rows × 9 columns</p>\n</div>"
     },
     "metadata": {},
     "execution_count": 3
    }
   ],
   "source": [
    "# Output File (CSV)\n",
    "output_data_file = \"../Clean_data/car_data.csv\"\n",
    "\n",
    "#Read WeatherPy CSV file\n",
    "car_data= pd.read_csv(output_data_file)\n",
    "\n",
    "car_data"
   ]
  },
  {
   "cell_type": "code",
   "execution_count": 20,
   "metadata": {},
   "outputs": [
    {
     "output_type": "execute_result",
     "data": {
      "text/plain": [
       "   Year                          Car Make and Model  Retail Price  \\\n",
       "0  2019  2019 Acura RDX Specs: FWD w/Technology Pkg       40600.0   \n",
       "1  2019     2019 Acura RDX Specs: FWD w/Advance Pkg       45500.0   \n",
       "2  2019      2019 Acura RDX Specs: FWD w/A-Spec Pkg       43600.0   \n",
       "3  2019                   2019 Acura RDX Specs: FWD       37400.0   \n",
       "4  2019  2019 Acura RDX Specs: AWD w/Technology Pkg       42600.0   \n",
       "\n",
       "   Highway MPG Body Style  Base Curb Weight (lbs) Parking Aid Back-Up Camera  \\\n",
       "0         28.0        Car                  3790.0         Yes            Yes   \n",
       "1         28.0        Car                  3829.0         Yes            Yes   \n",
       "2         27.0        Car                  3821.0         Yes            Yes   \n",
       "3         28.0        Car                  3783.0          No            Yes   \n",
       "4         27.0        Car                  4026.0         Yes            Yes   \n",
       "\n",
       "  Stability Control  Includes Parking Aid  Includes Back-Up Camera  \\\n",
       "0               Yes                     1                        1   \n",
       "1               Yes                     1                        1   \n",
       "2               Yes                     1                        1   \n",
       "3               Yes                     0                        1   \n",
       "4               Yes                     1                        1   \n",
       "\n",
       "   Includes Stability Control  \n",
       "0                           1  \n",
       "1                           1  \n",
       "2                           1  \n",
       "3                           1  \n",
       "4                           1  "
      ],
      "text/html": "<div>\n<style scoped>\n    .dataframe tbody tr th:only-of-type {\n        vertical-align: middle;\n    }\n\n    .dataframe tbody tr th {\n        vertical-align: top;\n    }\n\n    .dataframe thead th {\n        text-align: right;\n    }\n</style>\n<table border=\"1\" class=\"dataframe\">\n  <thead>\n    <tr style=\"text-align: right;\">\n      <th></th>\n      <th>Year</th>\n      <th>Car Make and Model</th>\n      <th>Retail Price</th>\n      <th>Highway MPG</th>\n      <th>Body Style</th>\n      <th>Base Curb Weight (lbs)</th>\n      <th>Parking Aid</th>\n      <th>Back-Up Camera</th>\n      <th>Stability Control</th>\n      <th>Includes Parking Aid</th>\n      <th>Includes Back-Up Camera</th>\n      <th>Includes Stability Control</th>\n    </tr>\n  </thead>\n  <tbody>\n    <tr>\n      <th>0</th>\n      <td>2019</td>\n      <td>2019 Acura RDX Specs: FWD w/Technology Pkg</td>\n      <td>40600.0</td>\n      <td>28.0</td>\n      <td>Car</td>\n      <td>3790.0</td>\n      <td>Yes</td>\n      <td>Yes</td>\n      <td>Yes</td>\n      <td>1</td>\n      <td>1</td>\n      <td>1</td>\n    </tr>\n    <tr>\n      <th>1</th>\n      <td>2019</td>\n      <td>2019 Acura RDX Specs: FWD w/Advance Pkg</td>\n      <td>45500.0</td>\n      <td>28.0</td>\n      <td>Car</td>\n      <td>3829.0</td>\n      <td>Yes</td>\n      <td>Yes</td>\n      <td>Yes</td>\n      <td>1</td>\n      <td>1</td>\n      <td>1</td>\n    </tr>\n    <tr>\n      <th>2</th>\n      <td>2019</td>\n      <td>2019 Acura RDX Specs: FWD w/A-Spec Pkg</td>\n      <td>43600.0</td>\n      <td>27.0</td>\n      <td>Car</td>\n      <td>3821.0</td>\n      <td>Yes</td>\n      <td>Yes</td>\n      <td>Yes</td>\n      <td>1</td>\n      <td>1</td>\n      <td>1</td>\n    </tr>\n    <tr>\n      <th>3</th>\n      <td>2019</td>\n      <td>2019 Acura RDX Specs: FWD</td>\n      <td>37400.0</td>\n      <td>28.0</td>\n      <td>Car</td>\n      <td>3783.0</td>\n      <td>No</td>\n      <td>Yes</td>\n      <td>Yes</td>\n      <td>0</td>\n      <td>1</td>\n      <td>1</td>\n    </tr>\n    <tr>\n      <th>4</th>\n      <td>2019</td>\n      <td>2019 Acura RDX Specs: AWD w/Technology Pkg</td>\n      <td>42600.0</td>\n      <td>27.0</td>\n      <td>Car</td>\n      <td>4026.0</td>\n      <td>Yes</td>\n      <td>Yes</td>\n      <td>Yes</td>\n      <td>1</td>\n      <td>1</td>\n      <td>1</td>\n    </tr>\n  </tbody>\n</table>\n</div>"
     },
     "metadata": {},
     "execution_count": 20
    }
   ],
   "source": [
    "#Creating conditions to determine mean of technology across years\n",
    "################################################################\n",
    "#Create new column to state if a car has parking aid (1 = Yes)\n",
    "Conditions=[\n",
    "\t\t(car_data['Parking Aid'] == \"Yes\"),\n",
    "\t\t(car_data['Parking Aid'] == \"No\")\n",
    "\t]\n",
    "\n",
    "Values=[1,0]\n",
    "\n",
    "\n",
    "car_data[\"Includes Parking Aid\"]=np.select(Conditions,Values)\n",
    "\n",
    "################################################################\n",
    "#Create new column to state if a car has Back-Up Camera (1 = Yes)\n",
    "Conditions=[\n",
    "\t\t(car_data['Back-Up Camera'] == \"Yes\"),\n",
    "\t\t(car_data['Back-Up Camera'] == \"No\")\n",
    "\t]\n",
    "\n",
    "Values=[1,0]\n",
    "\n",
    "\n",
    "car_data[\"Includes Back-Up Camera\"]=np.select(Conditions,Values)\n",
    "\n",
    "################################################################\n",
    "#Create new column to state if a car has Stability Control (1 = Yes)\n",
    "Conditions=[\n",
    "\t\t(car_data[\"Stability Control\"] == \"Yes\"),\n",
    "\t\t(car_data[\"Stability Control\"] == \"No\")\n",
    "\t]\n",
    "\n",
    "Values=[1,0]\n",
    "\n",
    "\n",
    "car_data[\"Includes Stability Control\"]=np.select(Conditions,Values)\n",
    "\n",
    "car_data.head()\n"
   ]
  },
  {
   "cell_type": "code",
   "execution_count": 22,
   "metadata": {},
   "outputs": [
    {
     "output_type": "execute_result",
     "data": {
      "text/plain": [
       "   Year  Includes Parking Aid  Includes Back-Up Camera  \\\n",
       "0  2019                     1                        1   \n",
       "1  2019                     1                        1   \n",
       "2  2019                     1                        1   \n",
       "3  2019                     0                        1   \n",
       "4  2019                     1                        1   \n",
       "\n",
       "   Includes Stability Control  \n",
       "0                           1  \n",
       "1                           1  \n",
       "2                           1  \n",
       "3                           1  \n",
       "4                           1  "
      ],
      "text/html": "<div>\n<style scoped>\n    .dataframe tbody tr th:only-of-type {\n        vertical-align: middle;\n    }\n\n    .dataframe tbody tr th {\n        vertical-align: top;\n    }\n\n    .dataframe thead th {\n        text-align: right;\n    }\n</style>\n<table border=\"1\" class=\"dataframe\">\n  <thead>\n    <tr style=\"text-align: right;\">\n      <th></th>\n      <th>Year</th>\n      <th>Includes Parking Aid</th>\n      <th>Includes Back-Up Camera</th>\n      <th>Includes Stability Control</th>\n    </tr>\n  </thead>\n  <tbody>\n    <tr>\n      <th>0</th>\n      <td>2019</td>\n      <td>1</td>\n      <td>1</td>\n      <td>1</td>\n    </tr>\n    <tr>\n      <th>1</th>\n      <td>2019</td>\n      <td>1</td>\n      <td>1</td>\n      <td>1</td>\n    </tr>\n    <tr>\n      <th>2</th>\n      <td>2019</td>\n      <td>1</td>\n      <td>1</td>\n      <td>1</td>\n    </tr>\n    <tr>\n      <th>3</th>\n      <td>2019</td>\n      <td>0</td>\n      <td>1</td>\n      <td>1</td>\n    </tr>\n    <tr>\n      <th>4</th>\n      <td>2019</td>\n      <td>1</td>\n      <td>1</td>\n      <td>1</td>\n    </tr>\n  </tbody>\n</table>\n</div>"
     },
     "metadata": {},
     "execution_count": 22
    }
   ],
   "source": [
    "technology_columns =[\"Year\", \"Includes Parking Aid\", \"Includes Back-Up Camera\", \"Includes Stability Control\"]\n",
    "\n",
    "Technology_df = car_data[technology_columns]\n",
    "\n",
    "Technology_df.head()"
   ]
  },
  {
   "cell_type": "code",
   "execution_count": 24,
   "metadata": {},
   "outputs": [
    {
     "output_type": "execute_result",
     "data": {
      "text/plain": [
       "      Includes Parking Aid  Includes Back-Up Camera  \\\n",
       "Year                                                  \n",
       "1996                     0                        0   \n",
       "1997                     0                        0   \n",
       "1998                     0                        0   \n",
       "1999                     0                        0   \n",
       "2000                     0                        0   \n",
       "\n",
       "      Includes Stability Control  % Parking Aid  % Back-Up Camera  \\\n",
       "Year                                                                \n",
       "1996                           0       0.000000               0.0   \n",
       "1997                           0       0.639659               0.0   \n",
       "1998                           0       0.212314               0.0   \n",
       "1999                           0       0.184162               0.0   \n",
       "2000                           0       0.341297               0.0   \n",
       "\n",
       "      % Stability Control  \n",
       "Year                       \n",
       "1996             1.278772  \n",
       "1997             0.852878  \n",
       "1998             1.910828  \n",
       "1999             3.683241  \n",
       "2000             7.337884  "
      ],
      "text/html": "<div>\n<style scoped>\n    .dataframe tbody tr th:only-of-type {\n        vertical-align: middle;\n    }\n\n    .dataframe tbody tr th {\n        vertical-align: top;\n    }\n\n    .dataframe thead th {\n        text-align: right;\n    }\n</style>\n<table border=\"1\" class=\"dataframe\">\n  <thead>\n    <tr style=\"text-align: right;\">\n      <th></th>\n      <th>Includes Parking Aid</th>\n      <th>Includes Back-Up Camera</th>\n      <th>Includes Stability Control</th>\n      <th>% Parking Aid</th>\n      <th>% Back-Up Camera</th>\n      <th>% Stability Control</th>\n    </tr>\n    <tr>\n      <th>Year</th>\n      <th></th>\n      <th></th>\n      <th></th>\n      <th></th>\n      <th></th>\n      <th></th>\n    </tr>\n  </thead>\n  <tbody>\n    <tr>\n      <th>1996</th>\n      <td>0</td>\n      <td>0</td>\n      <td>0</td>\n      <td>0.000000</td>\n      <td>0.0</td>\n      <td>1.278772</td>\n    </tr>\n    <tr>\n      <th>1997</th>\n      <td>0</td>\n      <td>0</td>\n      <td>0</td>\n      <td>0.639659</td>\n      <td>0.0</td>\n      <td>0.852878</td>\n    </tr>\n    <tr>\n      <th>1998</th>\n      <td>0</td>\n      <td>0</td>\n      <td>0</td>\n      <td>0.212314</td>\n      <td>0.0</td>\n      <td>1.910828</td>\n    </tr>\n    <tr>\n      <th>1999</th>\n      <td>0</td>\n      <td>0</td>\n      <td>0</td>\n      <td>0.184162</td>\n      <td>0.0</td>\n      <td>3.683241</td>\n    </tr>\n    <tr>\n      <th>2000</th>\n      <td>0</td>\n      <td>0</td>\n      <td>0</td>\n      <td>0.341297</td>\n      <td>0.0</td>\n      <td>7.337884</td>\n    </tr>\n  </tbody>\n</table>\n</div>"
     },
     "metadata": {},
     "execution_count": 24
    }
   ],
   "source": [
    "# Group by Year of Model\n",
    "grouped_tech_year = Technology_df.groupby([\"Year\"]).first()\n",
    "\n",
    "\n",
    "# Find Yearly Technology % by finding the mean in the original dataframe (0 and 1 values)\n",
    "grouped_tech_year[\"% Parking Aid\"] = (Technology_df.groupby(\"Year\")[\"Includes Parking Aid\"].mean() * 100)\n",
    "\n",
    "grouped_tech_year[\"% Back-Up Camera\"] = (Technology_df.groupby(\"Year\")[\"Includes Back-Up Camera\"].mean() * 100)\n",
    "\n",
    "grouped_tech_year[\"% Stability Control\"] = (Technology_df.groupby(\"Year\")[\"Includes Stability Control\"].mean() * 100)\n",
    "\n",
    "grouped_tech_year.head()\n"
   ]
  },
  {
   "cell_type": "code",
   "execution_count": 26,
   "metadata": {},
   "outputs": [
    {
     "output_type": "execute_result",
     "data": {
      "text/plain": [
       "      % Parking Aid  % Back-Up Camera  % Stability Control\n",
       "Year                                                      \n",
       "1996       0.000000          0.000000             1.278772\n",
       "1997       0.639659          0.000000             0.852878\n",
       "1998       0.212314          0.000000             1.910828\n",
       "1999       0.184162          0.000000             3.683241\n",
       "2000       0.341297          0.000000             7.337884\n",
       "2001       1.092896          0.000000             9.289617\n",
       "2002       1.195219          0.000000            13.811421\n",
       "2003       3.419811          0.235849            14.504717\n",
       "2004       3.578337          0.290135            21.276596\n",
       "2005       4.838710          0.448029            28.315412\n",
       "2006       5.201342          1.006711            31.879195\n",
       "2007       6.877898          2.009274            44.126739\n",
       "2008      10.709117          4.124457            51.953690\n",
       "2009      14.892136          7.306889            75.504523\n",
       "2010      15.796703         12.156593            90.041209\n",
       "2011      19.389587         17.414722            93.836026\n",
       "2012      20.909091         20.802139            99.732620\n",
       "2013      25.131718         31.981033            99.894626\n",
       "2014      27.874934         47.906730           100.000000\n",
       "2015      26.989453         57.094919            99.952061\n",
       "2016      31.295290         66.847826            99.682971\n",
       "2018      37.107825         95.239812            99.206635\n",
       "2019      41.024573         99.083715            99.416910"
      ],
      "text/html": "<div>\n<style scoped>\n    .dataframe tbody tr th:only-of-type {\n        vertical-align: middle;\n    }\n\n    .dataframe tbody tr th {\n        vertical-align: top;\n    }\n\n    .dataframe thead th {\n        text-align: right;\n    }\n</style>\n<table border=\"1\" class=\"dataframe\">\n  <thead>\n    <tr style=\"text-align: right;\">\n      <th></th>\n      <th>% Parking Aid</th>\n      <th>% Back-Up Camera</th>\n      <th>% Stability Control</th>\n    </tr>\n    <tr>\n      <th>Year</th>\n      <th></th>\n      <th></th>\n      <th></th>\n    </tr>\n  </thead>\n  <tbody>\n    <tr>\n      <th>1996</th>\n      <td>0.000000</td>\n      <td>0.000000</td>\n      <td>1.278772</td>\n    </tr>\n    <tr>\n      <th>1997</th>\n      <td>0.639659</td>\n      <td>0.000000</td>\n      <td>0.852878</td>\n    </tr>\n    <tr>\n      <th>1998</th>\n      <td>0.212314</td>\n      <td>0.000000</td>\n      <td>1.910828</td>\n    </tr>\n    <tr>\n      <th>1999</th>\n      <td>0.184162</td>\n      <td>0.000000</td>\n      <td>3.683241</td>\n    </tr>\n    <tr>\n      <th>2000</th>\n      <td>0.341297</td>\n      <td>0.000000</td>\n      <td>7.337884</td>\n    </tr>\n    <tr>\n      <th>2001</th>\n      <td>1.092896</td>\n      <td>0.000000</td>\n      <td>9.289617</td>\n    </tr>\n    <tr>\n      <th>2002</th>\n      <td>1.195219</td>\n      <td>0.000000</td>\n      <td>13.811421</td>\n    </tr>\n    <tr>\n      <th>2003</th>\n      <td>3.419811</td>\n      <td>0.235849</td>\n      <td>14.504717</td>\n    </tr>\n    <tr>\n      <th>2004</th>\n      <td>3.578337</td>\n      <td>0.290135</td>\n      <td>21.276596</td>\n    </tr>\n    <tr>\n      <th>2005</th>\n      <td>4.838710</td>\n      <td>0.448029</td>\n      <td>28.315412</td>\n    </tr>\n    <tr>\n      <th>2006</th>\n      <td>5.201342</td>\n      <td>1.006711</td>\n      <td>31.879195</td>\n    </tr>\n    <tr>\n      <th>2007</th>\n      <td>6.877898</td>\n      <td>2.009274</td>\n      <td>44.126739</td>\n    </tr>\n    <tr>\n      <th>2008</th>\n      <td>10.709117</td>\n      <td>4.124457</td>\n      <td>51.953690</td>\n    </tr>\n    <tr>\n      <th>2009</th>\n      <td>14.892136</td>\n      <td>7.306889</td>\n      <td>75.504523</td>\n    </tr>\n    <tr>\n      <th>2010</th>\n      <td>15.796703</td>\n      <td>12.156593</td>\n      <td>90.041209</td>\n    </tr>\n    <tr>\n      <th>2011</th>\n      <td>19.389587</td>\n      <td>17.414722</td>\n      <td>93.836026</td>\n    </tr>\n    <tr>\n      <th>2012</th>\n      <td>20.909091</td>\n      <td>20.802139</td>\n      <td>99.732620</td>\n    </tr>\n    <tr>\n      <th>2013</th>\n      <td>25.131718</td>\n      <td>31.981033</td>\n      <td>99.894626</td>\n    </tr>\n    <tr>\n      <th>2014</th>\n      <td>27.874934</td>\n      <td>47.906730</td>\n      <td>100.000000</td>\n    </tr>\n    <tr>\n      <th>2015</th>\n      <td>26.989453</td>\n      <td>57.094919</td>\n      <td>99.952061</td>\n    </tr>\n    <tr>\n      <th>2016</th>\n      <td>31.295290</td>\n      <td>66.847826</td>\n      <td>99.682971</td>\n    </tr>\n    <tr>\n      <th>2018</th>\n      <td>37.107825</td>\n      <td>95.239812</td>\n      <td>99.206635</td>\n    </tr>\n    <tr>\n      <th>2019</th>\n      <td>41.024573</td>\n      <td>99.083715</td>\n      <td>99.416910</td>\n    </tr>\n  </tbody>\n</table>\n</div>"
     },
     "metadata": {},
     "execution_count": 26
    }
   ],
   "source": [
    "Final_tech_columns =[\"% Parking Aid\", \"% Back-Up Camera\", \"% Stability Control\"]\n",
    "\n",
    "Final_tech_df= grouped_tech_year[Final_tech_columns]\n",
    "\n",
    "Final_tech_df"
   ]
  },
  {
   "cell_type": "code",
   "execution_count": null,
   "metadata": {},
   "outputs": [],
   "source": [
    "technology_multiplot= "
   ]
  }
 ]
}