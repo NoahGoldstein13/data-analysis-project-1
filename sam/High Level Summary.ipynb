{
 "cells": [
  {
   "cell_type": "code",
   "execution_count": 498,
   "metadata": {},
   "outputs": [],
   "source": [
    "#Import dependencies\n",
    "import pandas as pd\n",
    "import numpy as np\n",
    "import matplotlib.pyplot as plt"
   ]
  },
  {
   "cell_type": "code",
   "execution_count": 499,
   "metadata": {},
   "outputs": [
    {
     "data": {
      "text/html": [
       "<div>\n",
       "<style scoped>\n",
       "    .dataframe tbody tr th:only-of-type {\n",
       "        vertical-align: middle;\n",
       "    }\n",
       "\n",
       "    .dataframe tbody tr th {\n",
       "        vertical-align: top;\n",
       "    }\n",
       "\n",
       "    .dataframe thead th {\n",
       "        text-align: right;\n",
       "    }\n",
       "</style>\n",
       "<table border=\"1\" class=\"dataframe\">\n",
       "  <thead>\n",
       "    <tr style=\"text-align: right;\">\n",
       "      <th></th>\n",
       "      <th>Year</th>\n",
       "      <th>Car Make and Model</th>\n",
       "      <th>Retail Price</th>\n",
       "      <th>Highway MPG</th>\n",
       "      <th>Body Style</th>\n",
       "      <th>Base Curb Weight (lbs)</th>\n",
       "      <th>Parking Aid</th>\n",
       "      <th>Back-Up Camera</th>\n",
       "      <th>Stability Control</th>\n",
       "    </tr>\n",
       "  </thead>\n",
       "  <tbody>\n",
       "    <tr>\n",
       "      <th>0</th>\n",
       "      <td>2019</td>\n",
       "      <td>2019 Acura RDX Specs: FWD w/Technology Pkg</td>\n",
       "      <td>40600.0</td>\n",
       "      <td>28.0</td>\n",
       "      <td>Car</td>\n",
       "      <td>3790.0</td>\n",
       "      <td>Yes</td>\n",
       "      <td>Yes</td>\n",
       "      <td>Yes</td>\n",
       "    </tr>\n",
       "    <tr>\n",
       "      <th>1</th>\n",
       "      <td>2019</td>\n",
       "      <td>2019 Acura RDX Specs: FWD w/Advance Pkg</td>\n",
       "      <td>45500.0</td>\n",
       "      <td>28.0</td>\n",
       "      <td>Car</td>\n",
       "      <td>3829.0</td>\n",
       "      <td>Yes</td>\n",
       "      <td>Yes</td>\n",
       "      <td>Yes</td>\n",
       "    </tr>\n",
       "    <tr>\n",
       "      <th>2</th>\n",
       "      <td>2019</td>\n",
       "      <td>2019 Acura RDX Specs: FWD w/A-Spec Pkg</td>\n",
       "      <td>43600.0</td>\n",
       "      <td>27.0</td>\n",
       "      <td>Car</td>\n",
       "      <td>3821.0</td>\n",
       "      <td>Yes</td>\n",
       "      <td>Yes</td>\n",
       "      <td>Yes</td>\n",
       "    </tr>\n",
       "    <tr>\n",
       "      <th>3</th>\n",
       "      <td>2019</td>\n",
       "      <td>2019 Acura RDX Specs: FWD</td>\n",
       "      <td>37400.0</td>\n",
       "      <td>28.0</td>\n",
       "      <td>Car</td>\n",
       "      <td>3783.0</td>\n",
       "      <td>No</td>\n",
       "      <td>Yes</td>\n",
       "      <td>Yes</td>\n",
       "    </tr>\n",
       "    <tr>\n",
       "      <th>4</th>\n",
       "      <td>2019</td>\n",
       "      <td>2019 Acura RDX Specs: AWD w/Technology Pkg</td>\n",
       "      <td>42600.0</td>\n",
       "      <td>27.0</td>\n",
       "      <td>Car</td>\n",
       "      <td>4026.0</td>\n",
       "      <td>Yes</td>\n",
       "      <td>Yes</td>\n",
       "      <td>Yes</td>\n",
       "    </tr>\n",
       "    <tr>\n",
       "      <th>...</th>\n",
       "      <td>...</td>\n",
       "      <td>...</td>\n",
       "      <td>...</td>\n",
       "      <td>...</td>\n",
       "      <td>...</td>\n",
       "      <td>...</td>\n",
       "      <td>...</td>\n",
       "      <td>...</td>\n",
       "      <td>...</td>\n",
       "    </tr>\n",
       "    <tr>\n",
       "      <th>30493</th>\n",
       "      <td>2018</td>\n",
       "      <td>2018 Volvo V60 Cross Country Specs: T5 AWD Pla...</td>\n",
       "      <td>45700.0</td>\n",
       "      <td>NaN</td>\n",
       "      <td>Car</td>\n",
       "      <td>3920.0</td>\n",
       "      <td>Yes</td>\n",
       "      <td>Yes</td>\n",
       "      <td>Yes</td>\n",
       "    </tr>\n",
       "    <tr>\n",
       "      <th>30494</th>\n",
       "      <td>2016</td>\n",
       "      <td>2016 Volvo V60 Cross Country Specs: 4-Door Wag...</td>\n",
       "      <td>41200.0</td>\n",
       "      <td>28.0</td>\n",
       "      <td>Car</td>\n",
       "      <td>3602.0</td>\n",
       "      <td>Yes</td>\n",
       "      <td>No</td>\n",
       "      <td>Yes</td>\n",
       "    </tr>\n",
       "    <tr>\n",
       "      <th>30495</th>\n",
       "      <td>2016</td>\n",
       "      <td>2016 Volvo V60 Cross Country Specs: 4-Door Wag...</td>\n",
       "      <td>44850.0</td>\n",
       "      <td>28.0</td>\n",
       "      <td>Car</td>\n",
       "      <td>3602.0</td>\n",
       "      <td>Yes</td>\n",
       "      <td>Yes</td>\n",
       "      <td>Yes</td>\n",
       "    </tr>\n",
       "    <tr>\n",
       "      <th>30496</th>\n",
       "      <td>2015</td>\n",
       "      <td>2015 Volvo V60 Cross Country Specs: 2015.5 4-D...</td>\n",
       "      <td>41000.0</td>\n",
       "      <td>28.0</td>\n",
       "      <td>Car</td>\n",
       "      <td>3602.0</td>\n",
       "      <td>Yes</td>\n",
       "      <td>No</td>\n",
       "      <td>Yes</td>\n",
       "    </tr>\n",
       "    <tr>\n",
       "      <th>30497</th>\n",
       "      <td>2015</td>\n",
       "      <td>2015 Volvo V60 Cross Country Specs: 2015.5 4-D...</td>\n",
       "      <td>44650.0</td>\n",
       "      <td>28.0</td>\n",
       "      <td>Car</td>\n",
       "      <td>3602.0</td>\n",
       "      <td>Yes</td>\n",
       "      <td>Yes</td>\n",
       "      <td>Yes</td>\n",
       "    </tr>\n",
       "  </tbody>\n",
       "</table>\n",
       "<p>30498 rows × 9 columns</p>\n",
       "</div>"
      ],
      "text/plain": [
       "       Year                                 Car Make and Model  Retail Price  \\\n",
       "0      2019         2019 Acura RDX Specs: FWD w/Technology Pkg       40600.0   \n",
       "1      2019            2019 Acura RDX Specs: FWD w/Advance Pkg       45500.0   \n",
       "2      2019             2019 Acura RDX Specs: FWD w/A-Spec Pkg       43600.0   \n",
       "3      2019                          2019 Acura RDX Specs: FWD       37400.0   \n",
       "4      2019         2019 Acura RDX Specs: AWD w/Technology Pkg       42600.0   \n",
       "...     ...                                                ...           ...   \n",
       "30493  2018  2018 Volvo V60 Cross Country Specs: T5 AWD Pla...       45700.0   \n",
       "30494  2016  2016 Volvo V60 Cross Country Specs: 4-Door Wag...       41200.0   \n",
       "30495  2016  2016 Volvo V60 Cross Country Specs: 4-Door Wag...       44850.0   \n",
       "30496  2015  2015 Volvo V60 Cross Country Specs: 2015.5 4-D...       41000.0   \n",
       "30497  2015  2015 Volvo V60 Cross Country Specs: 2015.5 4-D...       44650.0   \n",
       "\n",
       "       Highway MPG Body Style  Base Curb Weight (lbs) Parking Aid  \\\n",
       "0             28.0        Car                  3790.0         Yes   \n",
       "1             28.0        Car                  3829.0         Yes   \n",
       "2             27.0        Car                  3821.0         Yes   \n",
       "3             28.0        Car                  3783.0          No   \n",
       "4             27.0        Car                  4026.0         Yes   \n",
       "...            ...        ...                     ...         ...   \n",
       "30493          NaN        Car                  3920.0         Yes   \n",
       "30494         28.0        Car                  3602.0         Yes   \n",
       "30495         28.0        Car                  3602.0         Yes   \n",
       "30496         28.0        Car                  3602.0         Yes   \n",
       "30497         28.0        Car                  3602.0         Yes   \n",
       "\n",
       "      Back-Up Camera Stability Control  \n",
       "0                Yes               Yes  \n",
       "1                Yes               Yes  \n",
       "2                Yes               Yes  \n",
       "3                Yes               Yes  \n",
       "4                Yes               Yes  \n",
       "...              ...               ...  \n",
       "30493            Yes               Yes  \n",
       "30494             No               Yes  \n",
       "30495            Yes               Yes  \n",
       "30496             No               Yes  \n",
       "30497            Yes               Yes  \n",
       "\n",
       "[30498 rows x 9 columns]"
      ]
     },
     "execution_count": 499,
     "metadata": {},
     "output_type": "execute_result"
    }
   ],
   "source": [
    "csv_path = '../Clean_data/car_data.csv'\n",
    "car_data_df = pd.read_csv(csv_path)\n",
    "car_data_df"
   ]
  },
  {
   "cell_type": "code",
   "execution_count": 500,
   "metadata": {},
   "outputs": [
    {
     "data": {
      "text/plain": [
       "Index(['Year', 'Car Make and Model', 'Retail Price', 'Highway MPG',\n",
       "       'Body Style', 'Base Curb Weight (lbs)', 'Parking Aid', 'Back-Up Camera',\n",
       "       'Stability Control'],\n",
       "      dtype='object')"
      ]
     },
     "execution_count": 500,
     "metadata": {},
     "output_type": "execute_result"
    }
   ],
   "source": [
    "car_data_df.columns.unique()"
   ]
  },
  {
   "cell_type": "code",
   "execution_count": 501,
   "metadata": {},
   "outputs": [
    {
     "data": {
      "text/html": [
       "<div>\n",
       "<style scoped>\n",
       "    .dataframe tbody tr th:only-of-type {\n",
       "        vertical-align: middle;\n",
       "    }\n",
       "\n",
       "    .dataframe tbody tr th {\n",
       "        vertical-align: top;\n",
       "    }\n",
       "\n",
       "    .dataframe thead th {\n",
       "        text-align: right;\n",
       "    }\n",
       "</style>\n",
       "<table border=\"1\" class=\"dataframe\">\n",
       "  <thead>\n",
       "    <tr style=\"text-align: right;\">\n",
       "      <th></th>\n",
       "      <th>Retail Price</th>\n",
       "      <th>Highway MPG</th>\n",
       "      <th>Base Curb Weight (lbs)</th>\n",
       "    </tr>\n",
       "    <tr>\n",
       "      <th>Year</th>\n",
       "      <th></th>\n",
       "      <th></th>\n",
       "      <th></th>\n",
       "    </tr>\n",
       "  </thead>\n",
       "  <tbody>\n",
       "    <tr>\n",
       "      <th>1996</th>\n",
       "      <td>26343.32</td>\n",
       "      <td>23.53</td>\n",
       "      <td>3351.47</td>\n",
       "    </tr>\n",
       "    <tr>\n",
       "      <th>1997</th>\n",
       "      <td>26308.59</td>\n",
       "      <td>25.33</td>\n",
       "      <td>1342808.46</td>\n",
       "    </tr>\n",
       "    <tr>\n",
       "      <th>1998</th>\n",
       "      <td>26127.61</td>\n",
       "      <td>25.33</td>\n",
       "      <td>3201.90</td>\n",
       "    </tr>\n",
       "    <tr>\n",
       "      <th>1999</th>\n",
       "      <td>26161.23</td>\n",
       "      <td>25.33</td>\n",
       "      <td>3231.76</td>\n",
       "    </tr>\n",
       "    <tr>\n",
       "      <th>2000</th>\n",
       "      <td>26938.17</td>\n",
       "      <td>25.21</td>\n",
       "      <td>3279.29</td>\n",
       "    </tr>\n",
       "    <tr>\n",
       "      <th>2001</th>\n",
       "      <td>27510.10</td>\n",
       "      <td>25.00</td>\n",
       "      <td>3319.43</td>\n",
       "    </tr>\n",
       "    <tr>\n",
       "      <th>2002</th>\n",
       "      <td>29873.02</td>\n",
       "      <td>25.27</td>\n",
       "      <td>3393.57</td>\n",
       "    </tr>\n",
       "    <tr>\n",
       "      <th>2003</th>\n",
       "      <td>30792.76</td>\n",
       "      <td>24.94</td>\n",
       "      <td>3466.24</td>\n",
       "    </tr>\n",
       "    <tr>\n",
       "      <th>2004</th>\n",
       "      <td>31284.74</td>\n",
       "      <td>24.63</td>\n",
       "      <td>3529.26</td>\n",
       "    </tr>\n",
       "    <tr>\n",
       "      <th>2005</th>\n",
       "      <td>31233.21</td>\n",
       "      <td>25.66</td>\n",
       "      <td>3499.54</td>\n",
       "    </tr>\n",
       "    <tr>\n",
       "      <th>2006</th>\n",
       "      <td>31797.50</td>\n",
       "      <td>24.76</td>\n",
       "      <td>3600.59</td>\n",
       "    </tr>\n",
       "    <tr>\n",
       "      <th>2007</th>\n",
       "      <td>31853.58</td>\n",
       "      <td>25.62</td>\n",
       "      <td>3633.56</td>\n",
       "    </tr>\n",
       "    <tr>\n",
       "      <th>2008</th>\n",
       "      <td>33704.57</td>\n",
       "      <td>23.45</td>\n",
       "      <td>3650.02</td>\n",
       "    </tr>\n",
       "    <tr>\n",
       "      <th>2009</th>\n",
       "      <td>35771.36</td>\n",
       "      <td>24.08</td>\n",
       "      <td>3652.44</td>\n",
       "    </tr>\n",
       "    <tr>\n",
       "      <th>2010</th>\n",
       "      <td>36911.18</td>\n",
       "      <td>25.24</td>\n",
       "      <td>3673.22</td>\n",
       "    </tr>\n",
       "    <tr>\n",
       "      <th>2011</th>\n",
       "      <td>38438.56</td>\n",
       "      <td>25.42</td>\n",
       "      <td>368398.66</td>\n",
       "    </tr>\n",
       "    <tr>\n",
       "      <th>2012</th>\n",
       "      <td>39582.78</td>\n",
       "      <td>26.24</td>\n",
       "      <td>3685.62</td>\n",
       "    </tr>\n",
       "    <tr>\n",
       "      <th>2013</th>\n",
       "      <td>39881.00</td>\n",
       "      <td>27.30</td>\n",
       "      <td>3635.69</td>\n",
       "    </tr>\n",
       "    <tr>\n",
       "      <th>2014</th>\n",
       "      <td>42778.69</td>\n",
       "      <td>28.05</td>\n",
       "      <td>3670.35</td>\n",
       "    </tr>\n",
       "    <tr>\n",
       "      <th>2015</th>\n",
       "      <td>44427.45</td>\n",
       "      <td>28.26</td>\n",
       "      <td>3656.70</td>\n",
       "    </tr>\n",
       "    <tr>\n",
       "      <th>2016</th>\n",
       "      <td>47958.70</td>\n",
       "      <td>27.97</td>\n",
       "      <td>3679.89</td>\n",
       "    </tr>\n",
       "    <tr>\n",
       "      <th>2018</th>\n",
       "      <td>49052.41</td>\n",
       "      <td>28.01</td>\n",
       "      <td>3698.80</td>\n",
       "    </tr>\n",
       "    <tr>\n",
       "      <th>2019</th>\n",
       "      <td>48866.52</td>\n",
       "      <td>27.92</td>\n",
       "      <td>3732.08</td>\n",
       "    </tr>\n",
       "  </tbody>\n",
       "</table>\n",
       "</div>"
      ],
      "text/plain": [
       "      Retail Price  Highway MPG  Base Curb Weight (lbs)\n",
       "Year                                                   \n",
       "1996      26343.32        23.53                 3351.47\n",
       "1997      26308.59        25.33              1342808.46\n",
       "1998      26127.61        25.33                 3201.90\n",
       "1999      26161.23        25.33                 3231.76\n",
       "2000      26938.17        25.21                 3279.29\n",
       "2001      27510.10        25.00                 3319.43\n",
       "2002      29873.02        25.27                 3393.57\n",
       "2003      30792.76        24.94                 3466.24\n",
       "2004      31284.74        24.63                 3529.26\n",
       "2005      31233.21        25.66                 3499.54\n",
       "2006      31797.50        24.76                 3600.59\n",
       "2007      31853.58        25.62                 3633.56\n",
       "2008      33704.57        23.45                 3650.02\n",
       "2009      35771.36        24.08                 3652.44\n",
       "2010      36911.18        25.24                 3673.22\n",
       "2011      38438.56        25.42               368398.66\n",
       "2012      39582.78        26.24                 3685.62\n",
       "2013      39881.00        27.30                 3635.69\n",
       "2014      42778.69        28.05                 3670.35\n",
       "2015      44427.45        28.26                 3656.70\n",
       "2016      47958.70        27.97                 3679.89\n",
       "2018      49052.41        28.01                 3698.80\n",
       "2019      48866.52        27.92                 3732.08"
      ]
     },
     "execution_count": 501,
     "metadata": {},
     "output_type": "execute_result"
    }
   ],
   "source": [
    "grouped_car_data_df = round(car_data_df.groupby(['Year']).mean(),2)\n",
    "grouped_car_data_df"
   ]
  },
  {
   "cell_type": "code",
   "execution_count": 502,
   "metadata": {},
   "outputs": [],
   "source": [
    "grouped_car_data_df.reset_index(inplace=True)"
   ]
  },
  {
   "cell_type": "code",
   "execution_count": 503,
   "metadata": {},
   "outputs": [],
   "source": [
    "#Set the columns\n",
    "price_df = grouped_car_data_df[\"Retail Price\"]\n",
    "mpg_df = grouped_car_data_df[\"Highway MPG\"]\n",
    "year_df = grouped_car_data_df[\"Year\"]"
   ]
  },
  {
   "cell_type": "code",
   "execution_count": 504,
   "metadata": {
    "scrolled": true
   },
   "outputs": [
    {
     "data": {
      "text/plain": [
       "0        3351.47\n",
       "1     1342808.46\n",
       "2        3201.90\n",
       "3        3231.76\n",
       "4        3279.29\n",
       "5        3319.43\n",
       "6        3393.57\n",
       "7        3466.24\n",
       "8        3529.26\n",
       "9        3499.54\n",
       "10       3600.59\n",
       "11       3633.56\n",
       "12       3650.02\n",
       "13       3652.44\n",
       "14       3673.22\n",
       "15     368398.66\n",
       "16       3685.62\n",
       "17       3635.69\n",
       "18       3670.35\n",
       "19       3656.70\n",
       "20       3679.89\n",
       "21       3698.80\n",
       "22       3732.08\n",
       "Name: Base Curb Weight (lbs), dtype: float64"
      ]
     },
     "execution_count": 504,
     "metadata": {},
     "output_type": "execute_result"
    }
   ],
   "source": [
    "weight_df = grouped_car_data_df[\"Base Curb Weight (lbs)\"]\n",
    "weight_df"
   ]
  },
  {
   "cell_type": "code",
   "execution_count": 505,
   "metadata": {},
   "outputs": [
    {
     "data": {
      "image/png": "[encoded data removed]",
      "text/plain": [
       "<Figure size 432x288 with 1 Axes>"
      ]
     },
     "metadata": {
      "needs_background": "light"
     },
     "output_type": "display_data"
    }
   ],
   "source": [
    "price = plt.plot(year_df, price_df, color=\"blue\", label=\"Retail Price)\")\n",
    "plt.legend()\n",
    "plt.title('Retail Price Over Time')\n",
    "plt.xlabel('Year')\n",
    "plt.ylabel('Price')\n",
    "plt.savefig(\"Retail Price Over Time line chart\", dpi=500)\n",
    "plt.show()"
   ]
  },
  {
   "cell_type": "code",
   "execution_count": 516,
   "metadata": {},
   "outputs": [
    {
     "data": {
      "image/png": "[encoded data removed]",
      "text/plain": [
       "<Figure size 432x288 with 1 Axes>"
      ]
     },
     "metadata": {
      "needs_background": "light"
     },
     "output_type": "display_data"
    }
   ],
   "source": [
    "mpg = plt.plot(year_df, mpg_df, color=\"red\", label=\"Highway MPG\")\n",
    "plt.legend()\n",
    "plt.title('Highway MPG Over Time')\n",
    "plt.xlabel('Year')\n",
    "plt.ylabel('Miles Per Gallon (MPG)')\n",
    "plt.savefig(\"Highway MPG Over Time line chart\", dpi=5000)\n",
    "plt.show()"
   ]
  },
  {
   "cell_type": "code",
   "execution_count": 512,
   "metadata": {},
   "outputs": [
    {
     "data": {
      "image/png": "[encoded data removed]",
      "text/plain": [
       "<Figure size 432x288 with 1 Axes>"
      ]
     },
     "metadata": {
      "needs_background": "light"
     },
     "output_type": "display_data"
    }
   ],
   "source": [
    "mpg = plt.plot(year_df, mpg_df, color=\"red\", label=\"Highway MPG\")\n",
    "plt.legend()\n",
    "plt.title('Highway MPG Over Time')\n",
    "plt.xlabel('Year')\n",
    "plt.ylabel('Miles Per Gallon (MPG)')\n",
    "plt.savefig(\"Highway MPG Over Time line chart\", dpi=5000)\n",
    "plt.show()"
   ]
  },
  {
   "cell_type": "code",
   "execution_count": 513,
   "metadata": {},
   "outputs": [
    {
     "data": {
      "text/plain": [
       "0     3351.47\n",
       "2     3201.90\n",
       "3     3231.76\n",
       "4     3279.29\n",
       "5     3319.43\n",
       "6     3393.57\n",
       "7     3466.24\n",
       "8     3529.26\n",
       "9     3499.54\n",
       "10    3600.59\n",
       "11    3633.56\n",
       "12    3650.02\n",
       "13    3652.44\n",
       "14    3673.22\n",
       "16    3685.62\n",
       "17    3635.69\n",
       "18    3670.35\n",
       "19    3656.70\n",
       "20    3679.89\n",
       "21    3698.80\n",
       "22    3732.08\n",
       "Name: Base Curb Weight (lbs), dtype: float64"
      ]
     },
     "execution_count": 513,
     "metadata": {},
     "output_type": "execute_result"
    }
   ],
   "source": [
    "drop_weight = weight_df.drop([1,15])\n",
    "drop_weight"
   ]
  },
  {
   "cell_type": "code",
   "execution_count": 514,
   "metadata": {},
   "outputs": [
    {
     "data": {
      "text/plain": [
       "0     1996\n",
       "2     1998\n",
       "3     1999\n",
       "4     2000\n",
       "5     2001\n",
       "6     2002\n",
       "7     2003\n",
       "8     2004\n",
       "9     2005\n",
       "10    2006\n",
       "11    2007\n",
       "12    2008\n",
       "13    2009\n",
       "14    2010\n",
       "16    2012\n",
       "17    2013\n",
       "18    2014\n",
       "19    2015\n",
       "20    2016\n",
       "21    2018\n",
       "22    2019\n",
       "Name: Year, dtype: int64"
      ]
     },
     "execution_count": 514,
     "metadata": {},
     "output_type": "execute_result"
    }
   ],
   "source": [
    "drop_year = year_df.drop([1,15])\n",
    "drop_year"
   ]
  },
  {
   "cell_type": "code",
   "execution_count": 517,
   "metadata": {},
   "outputs": [
    {
     "data": {
      "image/png": "[encoded data removed]",
      "text/plain": [
       "<Figure size 432x288 with 1 Axes>"
      ]
     },
     "metadata": {
      "needs_background": "light"
     },
     "output_type": "display_data"
    }
   ],
   "source": [
    "weight = plt.plot(drop_year, drop_weight, color=\"green\", label=\"Base Curb Weight (lbs)\")\n",
    "plt.legend()\n",
    "plt.title('Car Weight Over Time line chart')\n",
    "plt.xlabel('Year')\n",
    "plt.ylabel('Pounds (lbs)')\n",
    "plt.savefig(\"Car Weight Over Time line chart\", dpi=500)\n",
    "plt.show()"
   ]
  },
  {
   "cell_type": "code",
   "execution_count": null,
   "metadata": {},
   "outputs": [],
   "source": []
  },
  {
   "cell_type": "code",
   "execution_count": null,
   "metadata": {},
   "outputs": [],
   "source": []
  },
  {
   "cell_type": "code",
   "execution_count": null,
   "metadata": {},
   "outputs": [],
   "source": []
  },
  {
   "cell_type": "code",
   "execution_count": null,
   "metadata": {},
   "outputs": [],
   "source": []
  }
 ],
 "metadata": {
  "kernelspec": {
   "display_name": "Python 3",
   "language": "python",
   "name": "python3"
  },
  "language_info": {
   "codemirror_mode": {
    "name": "ipython",
    "version": 3
   },
   "file_extension": ".py",
   "mimetype": "text/x-python",
   "name": "python",
   "nbconvert_exporter": "python",
   "pygments_lexer": "ipython3",
   "version": "3.8.3"
  }
 },
 "nbformat": 4,
 "nbformat_minor": 4
}
